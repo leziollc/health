{
 "cells": [
  {
   "cell_type": "code",
   "execution_count": 1,
   "metadata": {
    "vscode": {
     "languageId": "r"
    }
   },
   "outputs": [
    {
     "name": "stderr",
     "output_type": "stream",
     "text": [
      "corrplot 0.92 loaded\n",
      "\n",
      "Loading required package: Matrix\n",
      "\n",
      "Loaded glmnet 4.1-8\n",
      "\n",
      "Loaded lars 1.3\n",
      "\n",
      "\n",
      "── \u001b[1mAttaching core tidyverse packages\u001b[22m ──────────────────────── tidyverse 2.0.0 ──\n",
      "\u001b[32m✔\u001b[39m \u001b[34mdplyr    \u001b[39m 1.1.4     \u001b[32m✔\u001b[39m \u001b[34mreadr    \u001b[39m 2.1.4\n",
      "\u001b[32m✔\u001b[39m \u001b[34mforcats  \u001b[39m 1.0.0     \u001b[32m✔\u001b[39m \u001b[34mstringr  \u001b[39m 1.5.0\n",
      "\u001b[32m✔\u001b[39m \u001b[34mlubridate\u001b[39m 1.9.3     \u001b[32m✔\u001b[39m \u001b[34mtibble   \u001b[39m 3.2.1\n",
      "\u001b[32m✔\u001b[39m \u001b[34mpurrr    \u001b[39m 1.0.2     \u001b[32m✔\u001b[39m \u001b[34mtidyr    \u001b[39m 1.3.0\n",
      "── \u001b[1mConflicts\u001b[22m ────────────────────────────────────────── tidyverse_conflicts() ──\n",
      "\u001b[31m✖\u001b[39m \u001b[34mtidyr\u001b[39m::\u001b[32mexpand()\u001b[39m masks \u001b[34mMatrix\u001b[39m::expand()\n",
      "\u001b[31m✖\u001b[39m \u001b[34mdplyr\u001b[39m::\u001b[32mfilter()\u001b[39m masks \u001b[34mstats\u001b[39m::filter()\n",
      "\u001b[31m✖\u001b[39m \u001b[34mdplyr\u001b[39m::\u001b[32mlag()\u001b[39m    masks \u001b[34mstats\u001b[39m::lag()\n",
      "\u001b[31m✖\u001b[39m \u001b[34mtidyr\u001b[39m::\u001b[32mpack()\u001b[39m   masks \u001b[34mMatrix\u001b[39m::pack()\n",
      "\u001b[31m✖\u001b[39m \u001b[34mtidyr\u001b[39m::\u001b[32munpack()\u001b[39m masks \u001b[34mMatrix\u001b[39m::unpack()\n",
      "\u001b[36mℹ\u001b[39m Use the conflicted package (\u001b[3m\u001b[34m<http://conflicted.r-lib.org/>\u001b[39m\u001b[23m) to force all conflicts to become errors\n",
      "Loading required package: lattice\n",
      "\n",
      "\n",
      "Attaching package: 'caret'\n",
      "\n",
      "\n",
      "The following object is masked from 'package:purrr':\n",
      "\n",
      "    lift\n",
      "\n",
      "\n",
      "here() starts at C:/Users/david/Desktop/GT/Courses/ISYE 6414_Regression Analysis/TA/2025Summer/Git_old/Main-Modules/Module4\n",
      "\n",
      "Loading required package: carData\n",
      "\n",
      "\n",
      "Attaching package: 'car'\n",
      "\n",
      "\n",
      "The following object is masked from 'package:dplyr':\n",
      "\n",
      "    recode\n",
      "\n",
      "\n",
      "The following object is masked from 'package:purrr':\n",
      "\n",
      "    some\n",
      "\n",
      "\n",
      "\n",
      "Attaching package: 'grpreg'\n",
      "\n",
      "\n",
      "The following object is masked from 'package:dplyr':\n",
      "\n",
      "    select\n",
      "\n",
      "\n",
      "\n",
      "Attaching package: 'scales'\n",
      "\n",
      "\n",
      "The following object is masked from 'package:purrr':\n",
      "\n",
      "    discard\n",
      "\n",
      "\n",
      "The following object is masked from 'package:readr':\n",
      "\n",
      "    col_factor\n",
      "\n",
      "\n",
      "\n",
      "Attaching package: 'olsrr'\n",
      "\n",
      "\n",
      "The following object is masked from 'package:datasets':\n",
      "\n",
      "    rivers\n",
      "\n",
      "\n"
     ]
    }
   ],
   "source": [
    "options(warn = -1)\n",
    "\n",
    "library(ggplot2)\n",
    "library(corrplot)\n",
    "library(glmnet)\n",
    "library(lars)\n",
    "library(tidyverse)\n",
    "library(gglasso)\n",
    "library(caret)\n",
    "library(here)\n",
    "library(car)\n",
    "library(grpreg)\n",
    "library(scales)\n",
    "library(olsrr)"
   ]
  },
  {
   "cell_type": "markdown",
   "metadata": {},
   "source": [
    "### Background\n",
    "This example looks at data from Alabama, Arkansas, Louisiana, and North Carolina\n",
    "detailing Medicaid recipients in 2011.  Medicaid is an income based health \n",
    "insurance program managed by the United States federal government that provided \n",
    "benefits to around 85 million persons, nationwide, in 2022.\n",
    "\n",
    "In this example, we will build multiple models to examine the following questions:\n",
    "\n",
    "1. What factors impact the healthcare cost due to emergency department encounters?\n",
    "2. Is access to primary care providers associated with healthcare costs due to \n",
    "emergency department encounters?\n",
    "\n",
    "Disclaimer: This analysis of healthcare cost for the Medicaid population using \n",
    "the MAX claims data is in compliance with the study protocol approved by the \n",
    "Georgia Tech Internal Review Board (IRB) and by CMS. Do NOT use the data \n",
    "provided for this analysis for purposes other than the study in this lesson. \n"
   ]
  },
  {
   "cell_type": "markdown",
   "metadata": {},
   "source": [
    "### Reading the Data"
   ]
  },
  {
   "cell_type": "code",
   "execution_count": 3,
   "metadata": {
    "vscode": {
     "languageId": "r"
    }
   },
   "outputs": [],
   "source": [
    "# read in the data file\n",
    "data_file <- here(\"DataADULT.csv\")\n",
    "dataAdult <- read.csv(data_file, header=TRUE)\n",
    "attach(dataAdult)"
   ]
  },
  {
   "cell_type": "markdown",
   "metadata": {},
   "source": [
    "### Data Description\n",
    "Response Variable:\n",
    "\n",
    "*EDcost:* The response variable of interest.  Emergency Department cost aggregated at the census tract level\n",
    "\n",
    "Predictors and Other Variables:\n",
    "\n",
    "*PMPM:* Per member per month - Total number of enrollment months aggregated by census tract\n",
    "*State:* State of the member\n",
    "*GEOID:* Census tract identification number\n",
    "*ED:* Number of emergency department claims\n",
    "*HO:* Number of hospitalization claims\n",
    "*PO:* Number of physician office claims\n",
    "*BlackPop:* One of example of multiple characteristics shwoing the percentages \n",
    "of Medicaid-enrolled adults of various populations\n",
    "*Unemployment:* One of 13 variables quantifying other possibly health-related factors\n"
   ]
  },
  {
   "cell_type": "markdown",
   "metadata": {},
   "source": [
    "## Preparing the Data\n",
    "In the code below, we scale the response variable EDCost and the utilization\n",
    "variables using PMPM to allow for comparison across census tracts.  Each census \n",
    "tract has different number of enrollees, and each enrollee can have a different \n",
    "number of enrollment months.  Because of this, scaling EDcost by PMPM allows a comparison of cost per enrollee month across census tracts.\n"
   ]
  },
  {
   "cell_type": "code",
   "execution_count": 4,
   "metadata": {
    "vscode": {
     "languageId": "r"
    }
   },
   "outputs": [],
   "source": [
    "# Rescale outcome/response variable\n",
    "EDCost.pmpm = EDCost/PMPM\n",
    "\n",
    "# Rescale utilization\n",
    "dataAdult$PO = PO/PMPM\n",
    "dataAdult$HO = HO/PMPM\n",
    "\n",
    "detach(dataAdult)\n",
    "attach(dataAdult)\n"
   ]
  },
  {
   "cell_type": "code",
   "execution_count": 5,
   "metadata": {
    "vscode": {
     "languageId": "r"
    }
   },
   "outputs": [
    {
     "data": {
      "image/png": "[encoded data removed]",
      "text/plain": [
       "Plot with title \"\""
      ]
     },
     "metadata": {
      "image/png": {
       "height": 420,
       "width": 420
      }
     },
     "output_type": "display_data"
    }
   ],
   "source": [
    "## Histogram of the response variable\n",
    "par(mfrow=c(2,1))\n",
    "hist(EDCost.pmpm, breaks=300, xlab=\"Emergency Department Cost\", main=\"\")\n",
    "hist(log(EDCost.pmpm), breaks=300, xlab=\"Log-Emergency Department Cost\", main=\"\")\n",
    "\n",
    "log.EDCost.pmpm = log(EDCost.pmpm)\n"
   ]
  },
  {
   "cell_type": "markdown",
   "metadata": {},
   "source": [
    "For histogram of EDCost.pmpm (top one), the shape of the distribution is skewed with the data concentrated into a rather small range, indicating that the normality assumption might not hold.\n",
    "\n",
    "The histogram of the log transformed data is on the bottom plot. The log transformation performs well in centering the data while spreading the data over a wider range. We also see here that we have two clear modes in the distribution of the response variable after transforming the data. It is our hope that this bimodality will be explained by the predicting variables considered in this study."
   ]
  },
  {
   "cell_type": "code",
   "execution_count": 6,
   "metadata": {
    "vscode": {
     "languageId": "r"
    }
   },
   "outputs": [
    {
     "data": {
      "image/png": "[encoded data removed]",
      "text/plain": [
       "Plot with title \"Variation of log of ED costs by urbanicity\""
      ]
     },
     "metadata": {
      "image/png": {
       "height": 420,
       "width": 420
      }
     },
     "output_type": "display_data"
    }
   ],
   "source": [
    "# Response variable vs categorical prediciting variables\n",
    "par(mfrow=c(2,1))\n",
    "boxplot(log.EDCost.pmpm ~ State, main = \"Variation of log of ED costs by state\")\n",
    "boxplot(log.EDCost.pmpm ~ Urbanicity, main = \"Variation of log of ED costs by urbanicity\")"
   ]
  },
  {
   "cell_type": "markdown",
   "metadata": {},
   "source": [
    "We use side-by-side box plots to assess the relationship between the response variable and the qualitative predicting variables.\n",
    "\n",
    "When comparing the EDCost.pmpm across states, we see clear differences in the median ED cost, with North Carolina having the higher median and Alabama having the lowest median. \n",
    "\n",
    "The differences among the medians across the three different urbanicity levels (rural, suburban, and urban) are not strikingly different. "
   ]
  },
  {
   "cell_type": "code",
   "execution_count": 7,
   "metadata": {
    "vscode": {
     "languageId": "r"
    }
   },
   "outputs": [
    {
     "data": {
      "image/png": "[encoded data removed]",
      "text/plain": [
       "plot without title"
      ]
     },
     "metadata": {
      "image/png": {
       "height": 420,
       "width": 420
      }
     },
     "output_type": "display_data"
    }
   ],
   "source": [
    "# Scatterplot matrix plots\n",
    "par(mfrow=c(1,1))\n",
    "\n",
    "# Response vs Utilization\n",
    "scatterplotMatrix(~ log(EDCost.pmpm) + HO + PO, data=dataAdult, smooth=FALSE)"
   ]
  },
  {
   "cell_type": "markdown",
   "metadata": {},
   "source": [
    "We use matrix plot to explore the relationsip between the response and quantative predictive variables.\n",
    "\n",
    "There is strong positive correlation between the ED cost and the utilization of physician office, but not a strong relationship with in-patient care utilization. Moreover, there is only a weak correlation between the utilization of physician office and in-patient utilization."
   ]
  },
  {
   "cell_type": "code",
   "execution_count": 8,
   "metadata": {
    "vscode": {
     "languageId": "r"
    }
   },
   "outputs": [
    {
     "data": {
      "image/png": "[encoded data removed]",
      "text/plain": [
       "plot without title"
      ]
     },
     "metadata": {
      "image/png": {
       "height": 420,
       "width": 420
      }
     },
     "output_type": "display_data"
    }
   ],
   "source": [
    "# Response vs Population Characteristics\n",
    "scatterplotMatrix(~ log(EDCost.pmpm) + WhitePop + BlackPop + OtherPop + HealthyPop + \n",
    "                      ChronicPop + ComplexPop, data=dataAdult,smooth=FALSE)"
   ]
  },
  {
   "cell_type": "markdown",
   "metadata": {},
   "source": [
    "This matrix plot is for population characteristics, with six population categories to consider.\n",
    "\n",
    "There is a weak relationship of the response with respect to black and white population percentages. There is also a negative relationship with the percentage of adults that are considered healthy, a weak positive relationship with the percentage of adults with chronic conditions. Strong positive relationship with a percentage of population with complex conditions. Moreover, there's a strong negative relationship between percentage of black population and percentage of white population."
   ]
  },
  {
   "cell_type": "code",
   "execution_count": 9,
   "metadata": {
    "vscode": {
     "languageId": "r"
    }
   },
   "outputs": [
    {
     "data": {
      "image/png": "[encoded data removed]",
      "text/plain": [
       "plot without title"
      ]
     },
     "metadata": {
      "image/png": {
       "height": 420,
       "width": 420
      }
     },
     "output_type": "display_data"
    }
   ],
   "source": [
    "# Response vs Socioeconomic and Environmental Characteristics\n",
    "scatterplotMatrix(~ log(EDCost.pmpm) + Unemployment + Income + Poverty + Education + \n",
    "                      Accessibility + Availability + ProvDensity, data=dataAdult, smooth=FALSE)"
   ]
  },
  {
   "cell_type": "markdown",
   "metadata": {},
   "source": [
    "There's no obvious correlation between the response variable and economic and environmental characteristics. A weak negative correlation is observed between reponse and income. "
   ]
  },
  {
   "cell_type": "code",
   "execution_count": 10,
   "metadata": {
    "vscode": {
     "languageId": "r"
    }
   },
   "outputs": [
    {
     "data": {
      "image/png": "[encoded data removed]",
      "text/plain": [
       "plot without title"
      ]
     },
     "metadata": {
      "image/png": {
       "height": 420,
       "width": 420
      }
     },
     "output_type": "display_data"
    }
   ],
   "source": [
    "# Response vs County Health Rankings\n",
    "scatterplotMatrix(~ log(EDCost.pmpm) + RankingsPCP + RankingsFood + RankingsHousing + \n",
    "                      RankingsExercise + RankingsSocial, data=dataAdult, smooth=FALSE)"
   ]
  },
  {
   "cell_type": "markdown",
   "metadata": {},
   "source": [
    "\n",
    "A mild positive correlation can be observed between the reponse variable and RankingExercise.\n"
   ]
  },
  {
   "cell_type": "markdown",
   "metadata": {},
   "source": [
    "## Correlation matrix plot"
   ]
  },
  {
   "cell_type": "code",
   "execution_count": 11,
   "metadata": {
    "vscode": {
     "languageId": "r"
    }
   },
   "outputs": [
    {
     "data": {
      "image/png": "[encoded data removed]",
      "text/plain": [
       "Plot with title \"\""
      ]
     },
     "metadata": {
      "image/png": {
       "height": 420,
       "width": 420
      }
     },
     "output_type": "display_data"
    }
   ],
   "source": [
    "corr = cor(cbind(log(EDCost.pmpm), \n",
    "                 dataAdult[,-c(1, 2, 3, 18)]))\n",
    "corrplot(corr, \n",
    "         tl.col=\"black\")\n"
   ]
  },
  {
   "cell_type": "markdown",
   "metadata": {},
   "source": [
    "We can see a large positive correlation between the response variable and the utilization of physician office and a large positive correlation between the response variable and the percentage of adults with complex conditions. We also see a large negative correlation between the response variable and the percentage of population that are considered healthy.\n",
    "\n",
    "Among the predicting variables, we see a strong negative correlation between the percentage of black and percentage of white populations, and between percentage of adults that are considered healthy and percentage of adults with complex conditions. "
   ]
  },
  {
   "cell_type": "code",
   "execution_count": 12,
   "metadata": {
    "vscode": {
     "languageId": "r"
    }
   },
   "outputs": [
    {
     "data": {
      "text/plain": [
       "\n",
       "Call:\n",
       "lm(formula = log(EDCost.pmpm) ~ ., data = dataAdult.red)\n",
       "\n",
       "Residuals:\n",
       "     Min       1Q   Median       3Q      Max \n",
       "-2.14286 -0.13782  0.00008  0.13464  1.75586 \n",
       "\n",
       "Coefficients:\n",
       "                     Estimate Std. Error t value Pr(>|t|)    \n",
       "(Intercept)         2.208e+00  1.175e-01  18.788  < 2e-16 ***\n",
       "StateAR             9.235e-01  1.610e-02  57.353  < 2e-16 ***\n",
       "StateLA             9.081e-01  1.358e-02  66.853  < 2e-16 ***\n",
       "StateNC             1.418e+00  1.650e-02  85.909  < 2e-16 ***\n",
       "HO                  1.168e+01  7.587e-01  15.401  < 2e-16 ***\n",
       "PO                  1.378e-01  4.114e-02   3.350 0.000815 ***\n",
       "WhitePop            4.416e-03  5.800e-04   7.614 3.16e-14 ***\n",
       "BlackPop            4.894e-03  5.824e-04   8.403  < 2e-16 ***\n",
       "HealthyPop         -9.044e-04  8.160e-04  -1.108 0.267751    \n",
       "ChronicPop         -5.949e-03  2.052e-03  -2.899 0.003760 ** \n",
       "Unemployment        4.390e-04  7.377e-04   0.595 0.551797    \n",
       "Income             -2.556e-07  2.774e-07  -0.922 0.356769    \n",
       "Poverty            -3.306e-04  4.460e-04  -0.741 0.458529    \n",
       "Education          -1.447e-03  3.296e-04  -4.390 1.16e-05 ***\n",
       "UrbanicitySuburban -4.565e-04  1.369e-02  -0.033 0.973406    \n",
       "UrbanicityUrban     2.067e-02  1.269e-02   1.629 0.103356    \n",
       "Accessibility      -1.965e-03  7.094e-04  -2.770 0.005623 ** \n",
       "Availability        8.037e-02  1.975e-02   4.068 4.81e-05 ***\n",
       "RankingsPCP         7.596e-04  1.819e-04   4.175 3.03e-05 ***\n",
       "RankingsFood        6.586e-03  5.203e-03   1.266 0.205642    \n",
       "RankingsHousing    -4.642e-03  1.562e-03  -2.973 0.002967 ** \n",
       "RankingsExercise    3.993e-04  2.332e-04   1.712 0.086907 .  \n",
       "RankingsSocial     -3.895e-04  1.347e-03  -0.289 0.772497    \n",
       "ProvDensity         6.042e-02  1.573e-02   3.841 0.000124 ***\n",
       "---\n",
       "Signif. codes:  0 '***' 0.001 '**' 0.01 '*' 0.05 '.' 0.1 ' ' 1\n",
       "\n",
       "Residual standard error: 0.2321 on 4995 degrees of freedom\n",
       "Multiple R-squared:  0.8486,\tAdjusted R-squared:  0.8479 \n",
       "F-statistic:  1218 on 23 and 4995 DF,  p-value: < 2.2e-16\n"
      ]
     },
     "metadata": {},
     "output_type": "display_data"
    }
   ],
   "source": [
    "# Full model\n",
    "# Exclude GEOID, scaling factor PMPM, and confounding factors EDCost and ED\n",
    "# Exclude OtherPop & ComplexPop because of linear dependence\n",
    "dataAdult.red = dataAdult[, -c(1, 3, 4, 5, 10, 13)] \n",
    "\n",
    "fullmodel = lm(log(EDCost.pmpm) ~ ., data=dataAdult.red)\n",
    "summary(fullmodel)\n"
   ]
  },
  {
   "cell_type": "markdown",
   "metadata": {},
   "source": [
    "To fit the regression model, we will need to discard the GEOID, the PMPM scaling factor, the ED utilization, which is a confounding factor, and the percentage of Other population due to the linear dependence with the black and white population percentages. We also need to discard population percentages with complex health conditions due to the linear dependence with the percentage of adults with chronic conditions and of those who are relatively healthy. \n",
    "\n",
    "Regarding the full model, socioeconomic predicting variables including unemployment, median income, percentage of population below the poverty level, and rankings with respect to social environment, are not statistically significant given other predicting variables in the model.\n",
    "\n",
    "The predicting variables included in the model explain approximately 84% of the variability in the reponse variable which is a large R squared for an observational study."
   ]
  },
  {
   "cell_type": "markdown",
   "metadata": {},
   "source": [
    "### Residual Analysis"
   ]
  },
  {
   "cell_type": "code",
   "execution_count": 13,
   "metadata": {
    "vscode": {
     "languageId": "r"
    }
   },
   "outputs": [],
   "source": [
    "# Residuals versus individual predicting variables \n",
    "full.resid = rstandard(fullmodel)\n",
    "cook = cooks.distance(fullmodel)"
   ]
  },
  {
   "cell_type": "code",
   "execution_count": 14,
   "metadata": {
    "vscode": {
     "languageId": "r"
    }
   },
   "outputs": [
    {
     "data": {
      "text/html": [
       "<table class=\"dataframe\">\n",
       "<caption>A data.frame: 4 × 3</caption>\n",
       "<thead>\n",
       "\t<tr><th></th><th scope=col>StudRes</th><th scope=col>Hat</th><th scope=col>CookD</th></tr>\n",
       "\t<tr><th></th><th scope=col>&lt;dbl&gt;</th><th scope=col>&lt;dbl&gt;</th><th scope=col>&lt;dbl&gt;</th></tr>\n",
       "</thead>\n",
       "<tbody>\n",
       "\t<tr><th scope=row>909</th><td>-9.5813441</td><td>0.05426619</td><td>0.215564937</td></tr>\n",
       "\t<tr><th scope=row>1396</th><td> 7.6555116</td><td>0.01185790</td><td>0.028969810</td></tr>\n",
       "\t<tr><th scope=row>4736</th><td> 0.8456224</td><td>0.10325807</td><td>0.003431018</td></tr>\n",
       "\t<tr><th scope=row>4737</th><td> 0.7985080</td><td>0.10823168</td><td>0.003224639</td></tr>\n",
       "</tbody>\n",
       "</table>\n"
      ],
      "text/latex": [
       "A data.frame: 4 × 3\n",
       "\\begin{tabular}{r|lll}\n",
       "  & StudRes & Hat & CookD\\\\\n",
       "  & <dbl> & <dbl> & <dbl>\\\\\n",
       "\\hline\n",
       "\t909 & -9.5813441 & 0.05426619 & 0.215564937\\\\\n",
       "\t1396 &  7.6555116 & 0.01185790 & 0.028969810\\\\\n",
       "\t4736 &  0.8456224 & 0.10325807 & 0.003431018\\\\\n",
       "\t4737 &  0.7985080 & 0.10823168 & 0.003224639\\\\\n",
       "\\end{tabular}\n"
      ],
      "text/markdown": [
       "\n",
       "A data.frame: 4 × 3\n",
       "\n",
       "| <!--/--> | StudRes &lt;dbl&gt; | Hat &lt;dbl&gt; | CookD &lt;dbl&gt; |\n",
       "|---|---|---|---|\n",
       "| 909 | -9.5813441 | 0.05426619 | 0.215564937 |\n",
       "| 1396 |  7.6555116 | 0.01185790 | 0.028969810 |\n",
       "| 4736 |  0.8456224 | 0.10325807 | 0.003431018 |\n",
       "| 4737 |  0.7985080 | 0.10823168 | 0.003224639 |\n",
       "\n"
      ],
      "text/plain": [
       "     StudRes    Hat        CookD      \n",
       "909  -9.5813441 0.05426619 0.215564937\n",
       "1396  7.6555116 0.01185790 0.028969810\n",
       "4736  0.8456224 0.10325807 0.003431018\n",
       "4737  0.7985080 0.10823168 0.003224639"
      ]
     },
     "metadata": {},
     "output_type": "display_data"
    },
    {
     "data": {
      "image/png": "[encoded data removed]",
      "text/plain": [
       "plot without title"
      ]
     },
     "metadata": {
      "image/png": {
       "height": 420,
       "width": 420
      }
     },
     "output_type": "display_data"
    }
   ],
   "source": [
    "par(mfrow=c(2,2))\n",
    "# Check outliers\n",
    "influencePlot(fullmodel)\n",
    "plot(cook, type=\"h\", lwd=3, col=\"blue\", ylab=\"Cook's Distance\")"
   ]
  },
  {
   "cell_type": "markdown",
   "metadata": {},
   "source": [
    "The influence plot is a bubble plot of the standardized residuals with areas of the circles being proportional to Cook’s distances. Both plots clearly show that point 909 is an outlier."
   ]
  },
  {
   "cell_type": "code",
   "execution_count": 15,
   "metadata": {
    "vscode": {
     "languageId": "r"
    }
   },
   "outputs": [
    {
     "data": {
      "text/html": [
       "<style>\n",
       ".list-inline {list-style: none; margin:0; padding: 0}\n",
       ".list-inline>li {display: inline-block}\n",
       ".list-inline>li:not(:last-child)::after {content: \"\\00b7\"; padding: 0 .5ex}\n",
       "</style>\n",
       "<ol class=list-inline><li>909</li><li>1396</li></ol>\n"
      ],
      "text/latex": [
       "\\begin{enumerate*}\n",
       "\\item 909\n",
       "\\item 1396\n",
       "\\end{enumerate*}\n"
      ],
      "text/markdown": [
       "1. 909\n",
       "2. 1396\n",
       "\n",
       "\n"
      ],
      "text/plain": [
       "[1]  909 1396"
      ]
     },
     "metadata": {},
     "output_type": "display_data"
    },
    {
     "data": {
      "image/png": "[encoded data removed]",
      "text/plain": [
       "Plot with title \"\""
      ]
     },
     "metadata": {
      "image/png": {
       "height": 420,
       "width": 420
      }
     },
     "output_type": "display_data"
    }
   ],
   "source": [
    "par(mfrow=c(2,2))\n",
    "# Check Normality\n",
    "qqPlot(full.resid, ylab=\"Residuals\", main = \"\")\n",
    "qqline(full.resid, col=\"blue\", lwd=2)\n",
    "hist(full.resid, xlab=\"Residuals\", main = \"\", nclass=30, col=\"orange\")"
   ]
  },
  {
   "cell_type": "markdown",
   "metadata": {},
   "source": [
    "The distribution of the residuals is symmetric but with heavy tails, possibly, more of a T distribution than a normal distribution."
   ]
  },
  {
   "cell_type": "code",
   "execution_count": 16,
   "metadata": {
    "vscode": {
     "languageId": "r"
    }
   },
   "outputs": [
    {
     "data": {
      "image/png": "[encoded data removed]",
      "text/plain": [
       "plot without title"
      ]
     },
     "metadata": {
      "image/png": {
       "height": 420,
       "width": 420
      }
     },
     "output_type": "display_data"
    }
   ],
   "source": [
    "# Check Constant Variance & Uncorrelated Errors\n",
    "full.fitted = fitted(fullmodel)\n",
    "par(mfrow=c(1,1))\n",
    "plot(full.fitted, full.resid, xlab=\"Fitted Values\", ylab=\"Residuals\")"
   ]
  },
  {
   "cell_type": "markdown",
   "metadata": {},
   "source": [
    "We evaluate the assumptions of constant variance and uncorrelated errors. There is no evidence that the variance changes across the residuals. However, there are three clear clusters of the residuals pointing out to a possible departure from the uncorrelated errors assumption. "
   ]
  },
  {
   "cell_type": "code",
   "execution_count": 17,
   "metadata": {
    "vscode": {
     "languageId": "r"
    }
   },
   "outputs": [
    {
     "data": {
      "image/png": "[encoded data removed]",
      "text/plain": [
       "plot without title"
      ]
     },
     "metadata": {
      "image/png": {
       "height": 420,
       "width": 420
      }
     },
     "output_type": "display_data"
    },
    {
     "data": {
      "image/png": "[encoded data removed]",
      "text/plain": [
       "plot without title"
      ]
     },
     "metadata": {
      "image/png": {
       "height": 420,
       "width": 420
      }
     },
     "output_type": "display_data"
    },
    {
     "data": {
      "image/png": "[encoded data removed]",
      "text/plain": [
       "plot without title"
      ]
     },
     "metadata": {
      "image/png": {
       "height": 420,
       "width": 420
      }
     },
     "output_type": "display_data"
    }
   ],
   "source": [
    "# Check Linearity\n",
    "crPlots(fullmodel, ylab=\"\", ask=FALSE)"
   ]
  },
  {
   "cell_type": "markdown",
   "metadata": {},
   "source": [
    "This step is to check the linearity. We use boxplots for qualitative variables and scatterplots for quantitative variables.\n",
    "\n",
    "Interpretation:\n",
    "The boxplot of residuals vs. state shows some variation across the states but small variation among medians.\n",
    "\n",
    "The scatterplot of hospitalization vs. residuals shows a slight increase in the trend, possibly due to the fact that there are a few large values in the inpatient utilization that pull the trend upwards. "
   ]
  },
  {
   "cell_type": "markdown",
   "metadata": {},
   "source": [
    "### VARIABLE SELECTION "
   ]
  },
  {
   "cell_type": "markdown",
   "metadata": {},
   "source": [
    "2^23 =  8388608 models -- not feasible to compare all models"
   ]
  },
  {
   "cell_type": "code",
   "execution_count": 18,
   "metadata": {
    "vscode": {
     "languageId": "r"
    }
   },
   "outputs": [],
   "source": [
    "# Apply Lasso Regression\n",
    "set.seed(100)\n",
    "predictors = as.matrix(dataAdult[, -c(1, 2, 3, 4, 5, 10, 13, 18)])\n",
    "\n",
    "# Set up indicator (dummy) variables for State and Urbanicity\n",
    "AL= rep(0, length(State)) ## Baseline\n",
    "AL[as.numeric(factor(State))==1] = 1\n",
    "AR = rep(0, length(State))\n",
    "AR[as.numeric(factor(State))==2] = 1\n",
    "LA = rep(0, length(State))\n",
    "LA[as.numeric(factor(State))==3] = 1\n",
    "NC = rep(0, length(State))\n",
    "NC[as.numeric(factor(State))==4] = 1\n",
    "rural   = rep(0, length(Urbanicity)) ## Baseline\n",
    "rural[as.numeric(factor(Urbanicity))==1] = 1\n",
    "suburban = rep(0, length(Urbanicity))\n",
    "suburban[as.numeric(factor(Urbanicity))==2] = 1\n",
    "urban    = rep(0, length(Urbanicity))\n",
    "urban[as.numeric(factor(Urbanicity))==3] = 1\n",
    "predictors = cbind(predictors, AR, LA, NC, suburban, urban)\n",
    "\n"
   ]
  },
  {
   "cell_type": "markdown",
   "metadata": {},
   "source": [
    "The code above prepares the predicting variables for fitting the regularized regression model. In this code, we rename the dummy variables to reflect the categories within the corresponding categorical variable. We also discard one dummy variable for each qualitative predicting variable. \n",
    "\n",
    "For this study we have 23 predicting variables, which is equivalent to about 8 million combinations of submodels; that’s more than 8 million models to search through if we were to employ exhaustive search. Thus, we cannot fit all 8 million models and compare them to select the best model. We will have to perform either stepwise regression or regularized regression."
   ]
  },
  {
   "cell_type": "code",
   "execution_count": 19,
   "metadata": {
    "vscode": {
     "languageId": "r"
    }
   },
   "outputs": [],
   "source": [
    "# 10-fold CV to find the optimal lambda \n",
    "lassomodel.cv = cv.glmnet(predictors, log(EDCost.pmpm), alpha=1, nfolds=10)\n",
    "\n",
    "# Fit lasso model with 100 values for lambda\n",
    "lassomodel = glmnet(predictors, log(EDCost.pmpm), alpha=1, nlambda=100)"
   ]
  },
  {
   "cell_type": "markdown",
   "metadata": {},
   "source": [
    "Here we are using alpha =1 and 10 cross-fold to fit the LASSO regression model."
   ]
  },
  {
   "cell_type": "code",
   "execution_count": 20,
   "metadata": {
    "vscode": {
     "languageId": "r"
    }
   },
   "outputs": [
    {
     "data": {
      "image/png": "[encoded data removed]",
      "text/plain": [
       "plot without title"
      ]
     },
     "metadata": {
      "image/png": {
       "height": 420,
       "width": 420
      }
     },
     "output_type": "display_data"
    }
   ],
   "source": [
    "# Plot coefficient paths\n",
    "plot(lassomodel, xvar=\"lambda\", label=TRUE, lwd=2)\n",
    "abline(v=log(lassomodel.cv$lambda.min), col='black', lty=2, lwd=2)"
   ]
  },
  {
   "cell_type": "markdown",
   "metadata": {},
   "source": [
    "The vertical line in the path plot corresponds to the optimal lambdas, suggesting the selection of 22 out of 23 predicting variables.\n",
    "\n",
    "Among the coefficient paths that stand out, the black line corresponds to the first variable in the matrix of the predicting variables, which corresponds to inpatient care utilization. Urbanicity dummy variables were selected but have low coefficient paths. "
   ]
  },
  {
   "cell_type": "code",
   "execution_count": 21,
   "metadata": {
    "vscode": {
     "languageId": "r"
    }
   },
   "outputs": [
    {
     "data": {
      "text/plain": [
       "24 x 1 sparse Matrix of class \"dgCMatrix\"\n",
       "                            s1\n",
       "(Intercept)       2.277008e+00\n",
       "HO                1.162649e+01\n",
       "PO                1.389343e-01\n",
       "WhitePop          3.767074e-03\n",
       "BlackPop          4.246413e-03\n",
       "HealthyPop       -1.042170e-03\n",
       "ChronicPop       -5.704991e-03\n",
       "Unemployment      3.421637e-04\n",
       "Income           -2.307290e-07\n",
       "Poverty          -2.383079e-04\n",
       "Education        -1.451700e-03\n",
       "Accessibility    -1.831102e-03\n",
       "Availability      7.664592e-02\n",
       "RankingsPCP       7.194696e-04\n",
       "RankingsFood      5.782113e-03\n",
       "RankingsHousing  -4.587208e-03\n",
       "RankingsExercise  3.969711e-04\n",
       "RankingsSocial    .           \n",
       "ProvDensity       5.923880e-02\n",
       "AR                9.183680e-01\n",
       "LA                9.027530e-01\n",
       "NC                1.410464e+00\n",
       "suburban         -7.302044e-05\n",
       "urban             2.096038e-02"
      ]
     },
     "metadata": {},
     "output_type": "display_data"
    }
   ],
   "source": [
    "# Extract coefficients at optimal lambda\n",
    "coef(lassomodel, lassomodel.cv$lambda.min)"
   ]
  },
  {
   "cell_type": "markdown",
   "metadata": {},
   "source": [
    "22 out of 23 predicting variables are selected at the optimal lambda."
   ]
  },
  {
   "cell_type": "code",
   "execution_count": 22,
   "metadata": {
    "vscode": {
     "languageId": "r"
    }
   },
   "outputs": [],
   "source": [
    "# Elastic Net\n",
    "# 10-fold CV to find the optimal lambda \n",
    "enetmodel.cv = cv.glmnet(predictors, log(EDCost.pmpm), alpha=0.5, nfolds=10)\n",
    "\n",
    "# Fit elastic net model with 100 values for lambda\n",
    "enetmodel = glmnet(predictors, log(EDCost.pmpm), alpha=0.5, nlambda=100)\n"
   ]
  },
  {
   "cell_type": "markdown",
   "metadata": {},
   "source": [
    "We use a similar implementation for the more general variable selection approach, the Elastic Net. The only difference is the specification of alpha which is set to be equal to 0.5. The alpha equal to 0.5 means that we are giving equal weights to the two penalties, the L2 or the Ridge regression penalty and the L1 or the LASSO penalty."
   ]
  },
  {
   "cell_type": "code",
   "execution_count": 23,
   "metadata": {
    "vscode": {
     "languageId": "r"
    }
   },
   "outputs": [
    {
     "data": {
      "image/png": "[encoded data removed]",
      "text/plain": [
       "plot without title"
      ]
     },
     "metadata": {
      "image/png": {
       "height": 420,
       "width": 420
      }
     },
     "output_type": "display_data"
    }
   ],
   "source": [
    "## Plot coefficient paths\n",
    "plot(enetmodel, xvar=\"lambda\", label=TRUE, lwd=2)\n",
    "abline(v=log(enetmodel.cv$lambda.min), col='black', lty=2, lwd=2)"
   ]
  },
  {
   "cell_type": "markdown",
   "metadata": {},
   "source": [
    "High coefficients paths are similar to those for LASSO. "
   ]
  },
  {
   "cell_type": "code",
   "execution_count": 24,
   "metadata": {
    "vscode": {
     "languageId": "r"
    }
   },
   "outputs": [
    {
     "data": {
      "text/plain": [
       "24 x 1 sparse Matrix of class \"dgCMatrix\"\n",
       "                            s1\n",
       "(Intercept)       2.281834e+00\n",
       "HO                1.165839e+01\n",
       "PO                1.470070e-01\n",
       "WhitePop          3.740041e-03\n",
       "BlackPop          4.235162e-03\n",
       "HealthyPop       -1.150550e-03\n",
       "ChronicPop       -5.787252e-03\n",
       "Unemployment      3.645349e-04\n",
       "Income           -2.378440e-07\n",
       "Poverty          -2.711813e-04\n",
       "Education        -1.451883e-03\n",
       "Accessibility    -1.869853e-03\n",
       "Availability      7.735958e-02\n",
       "RankingsPCP       7.195706e-04\n",
       "RankingsFood      6.024685e-03\n",
       "RankingsHousing  -4.572583e-03\n",
       "RankingsExercise  4.202769e-04\n",
       "RankingsSocial    .           \n",
       "ProvDensity       5.948301e-02\n",
       "AR                9.148418e-01\n",
       "LA                9.004042e-01\n",
       "NC                1.405599e+00\n",
       "suburban         -3.432797e-04\n",
       "urban             2.107438e-02"
      ]
     },
     "metadata": {},
     "output_type": "display_data"
    }
   ],
   "source": [
    "# Extract coefficients at optimal lambda\n",
    "coef(enetmodel, s=enetmodel.cv$lambda.min)"
   ]
  },
  {
   "cell_type": "markdown",
   "metadata": {},
   "source": [
    "Similar to LASSO, we select 22 variables out of 23 with RankingsSocial being discarded from the model."
   ]
  },
  {
   "cell_type": "markdown",
   "metadata": {},
   "source": [
    "### Apply Stepwise Regression"
   ]
  },
  {
   "cell_type": "code",
   "execution_count": 25,
   "metadata": {
    "vscode": {
     "languageId": "r"
    }
   },
   "outputs": [],
   "source": [
    "full = lm(log(EDCost.pmpm) ~ HealthyPop + ChronicPop + State + Urbanicity + HO + PO +\n",
    "              BlackPop + WhitePop + Unemployment + Income + Poverty+ Education +\n",
    "              Accessibility + Availability + ProvDensity +\n",
    "              RankingsPCP + RankingsFood + RankingsExercise + RankingsSocial, data=dataAdult)  \n",
    "minimum = lm(log(EDCost.pmpm) ~ HealthyPop + ChronicPop, data=dataAdult)"
   ]
  },
  {
   "cell_type": "markdown",
   "metadata": {},
   "source": [
    "The minimum model includes only the two controlling variables. "
   ]
  },
  {
   "cell_type": "code",
   "execution_count": 26,
   "metadata": {
    "vscode": {
     "languageId": "r"
    }
   },
   "outputs": [
    {
     "name": "stdout",
     "output_type": "stream",
     "text": [
      "Start:  AIC=-6508.82\n",
      "log(EDCost.pmpm) ~ HealthyPop + ChronicPop\n",
      "\n",
      "                   Df Sum of Sq     RSS      AIC\n",
      "+ State             3   1072.51  298.02 -14160.8\n",
      "+ PO                1    321.40 1049.14  -7848.1\n",
      "+ RankingsExercise  1    203.59 1166.94  -7313.9\n",
      "+ RankingsPCP       1     68.73 1301.81  -6765.0\n",
      "+ Accessibility     1     64.72 1305.82  -6749.6\n",
      "+ Urbanicity        2     61.31 1309.22  -6734.5\n",
      "+ Availability      1     56.64 1313.90  -6718.6\n",
      "+ Income            1     56.10 1314.43  -6716.6\n",
      "+ Education         1     53.76 1316.77  -6707.7\n",
      "+ RankingsSocial    1     49.80 1320.73  -6692.6\n",
      "+ ProvDensity       1     37.63 1332.90  -6646.6\n",
      "+ Poverty           1     25.98 1344.55  -6602.9\n",
      "+ RankingsFood      1     17.84 1352.70  -6572.6\n",
      "+ Unemployment      1     11.70 1358.84  -6549.8\n",
      "+ WhitePop          1      5.95 1364.58  -6528.7\n",
      "+ BlackPop          1      4.04 1366.49  -6521.6\n",
      "<none>                          1370.53  -6508.8\n",
      "+ HO                1      0.40 1370.13  -6508.3\n",
      "\n",
      "Step:  AIC=-14160.81\n",
      "log(EDCost.pmpm) ~ HealthyPop + ChronicPop + State\n",
      "\n",
      "                   Df Sum of Sq    RSS    AIC\n",
      "+ HO                1   16.2184 281.80 -14440\n",
      "+ Education         1    2.4502 295.57 -14200\n",
      "+ ProvDensity       1    1.7312 296.29 -14188\n",
      "+ Income            1    1.4760 296.54 -14184\n",
      "+ RankingsPCP       1    0.8036 297.21 -14172\n",
      "+ Urbanicity        2    0.8495 297.17 -14171\n",
      "+ Poverty           1    0.6518 297.37 -14170\n",
      "+ RankingsFood      1    0.5630 297.45 -14168\n",
      "+ Unemployment      1    0.5246 297.49 -14168\n",
      "+ RankingsSocial    1    0.4990 297.52 -14167\n",
      "+ Availability      1    0.3453 297.67 -14165\n",
      "+ BlackPop          1    0.3357 297.68 -14164\n",
      "<none>                          298.02 -14161\n",
      "+ RankingsExercise  1    0.0201 298.00 -14159\n",
      "+ Accessibility     1    0.0125 298.01 -14159\n",
      "+ WhitePop          1    0.0017 298.02 -14159\n",
      "+ PO                1    0.0000 298.02 -14159\n",
      "\n",
      "Step:  AIC=-14439.66\n",
      "log(EDCost.pmpm) ~ HealthyPop + ChronicPop + State + HO\n",
      "\n",
      "                   Df Sum of Sq    RSS    AIC\n",
      "+ Education         1   2.53666 279.26 -14483\n",
      "+ Income            1   1.23191 280.57 -14460\n",
      "+ ProvDensity       1   1.09725 280.70 -14457\n",
      "+ Urbanicity        2   1.03380 280.77 -14454\n",
      "+ RankingsPCP       1   0.59790 281.20 -14448\n",
      "+ Unemployment      1   0.52918 281.27 -14447\n",
      "+ Poverty           1   0.35899 281.44 -14444\n",
      "+ RankingsSocial    1   0.31671 281.48 -14443\n",
      "+ PO                1   0.29628 281.50 -14443\n",
      "+ RankingsFood      1   0.28615 281.51 -14443\n",
      "+ Availability      1   0.19362 281.61 -14441\n",
      "+ RankingsExercise  1   0.16194 281.64 -14440\n",
      "+ BlackPop          1   0.15317 281.65 -14440\n",
      "<none>                          281.80 -14440\n",
      "+ WhitePop          1   0.07663 281.72 -14439\n",
      "+ Accessibility     1   0.00141 281.80 -14438\n",
      "\n",
      "Step:  AIC=-14483.05\n",
      "log(EDCost.pmpm) ~ HealthyPop + ChronicPop + State + HO + Education\n",
      "\n",
      "                   Df Sum of Sq    RSS    AIC\n",
      "+ ProvDensity       1   2.29144 276.97 -14522\n",
      "+ RankingsPCP       1   1.87495 277.39 -14515\n",
      "+ Urbanicity        2   1.57099 277.69 -14507\n",
      "+ RankingsExercise  1   0.81665 278.45 -14496\n",
      "+ RankingsFood      1   0.36866 278.89 -14488\n",
      "+ Accessibility     1   0.27389 278.99 -14486\n",
      "+ RankingsSocial    1   0.24741 279.02 -14486\n",
      "+ BlackPop          1   0.12923 279.13 -14483\n",
      "<none>                          279.26 -14483\n",
      "+ PO                1   0.10844 279.15 -14483\n",
      "+ WhitePop          1   0.04519 279.22 -14482\n",
      "+ Poverty           1   0.01227 279.25 -14481\n",
      "+ Unemployment      1   0.00828 279.25 -14481\n",
      "+ Income            1   0.00470 279.26 -14481\n",
      "+ Availability      1   0.00015 279.26 -14481\n",
      "\n",
      "Step:  AIC=-14522.4\n",
      "log(EDCost.pmpm) ~ HealthyPop + ChronicPop + State + HO + Education + \n",
      "    ProvDensity\n",
      "\n",
      "                   Df Sum of Sq    RSS    AIC\n",
      "+ RankingsPCP       1   0.73210 276.24 -14534\n",
      "+ Urbanicity        2   0.48589 276.49 -14527\n",
      "+ PO                1   0.34366 276.63 -14527\n",
      "+ RankingsExercise  1   0.28871 276.68 -14526\n",
      "+ RankingsSocial    1   0.21800 276.75 -14524\n",
      "+ Availability      1   0.20147 276.77 -14524\n",
      "+ RankingsFood      1   0.19073 276.78 -14524\n",
      "+ Accessibility     1   0.14017 276.83 -14523\n",
      "<none>                          276.97 -14522\n",
      "+ BlackPop          1   0.09355 276.88 -14522\n",
      "+ WhitePop          1   0.08123 276.89 -14522\n",
      "+ Poverty           1   0.02886 276.94 -14521\n",
      "+ Unemployment      1   0.01890 276.95 -14521\n",
      "+ Income            1   0.00962 276.96 -14521\n",
      "\n",
      "Step:  AIC=-14533.68\n",
      "log(EDCost.pmpm) ~ HealthyPop + ChronicPop + State + HO + Education + \n",
      "    ProvDensity + RankingsPCP\n",
      "\n",
      "                   Df Sum of Sq    RSS    AIC\n",
      "+ Availability      1   0.63740 275.60 -14543\n",
      "+ PO                1   0.49118 275.75 -14541\n",
      "+ RankingsFood      1   0.39088 275.85 -14539\n",
      "+ Urbanicity        2   0.38172 275.86 -14537\n",
      "+ WhitePop          1   0.19877 276.04 -14535\n",
      "+ Poverty           1   0.11027 276.13 -14534\n",
      "<none>                          276.24 -14534\n",
      "+ RankingsSocial    1   0.08109 276.16 -14533\n",
      "+ BlackPop          1   0.02696 276.21 -14532\n",
      "+ Accessibility     1   0.02064 276.22 -14532\n",
      "+ RankingsExercise  1   0.01245 276.23 -14532\n",
      "+ Income            1   0.00623 276.23 -14532\n",
      "+ Unemployment      1   0.00302 276.24 -14532\n",
      "\n",
      "Step:  AIC=-14543.28\n",
      "log(EDCost.pmpm) ~ HealthyPop + ChronicPop + State + HO + Education + \n",
      "    ProvDensity + RankingsPCP + Availability\n",
      "\n",
      "                   Df Sum of Sq    RSS    AIC\n",
      "+ Accessibility     1   0.62509 274.98 -14553\n",
      "+ PO                1   0.39612 275.21 -14548\n",
      "+ RankingsFood      1   0.33799 275.26 -14547\n",
      "+ Urbanicity        2   0.41970 275.18 -14547\n",
      "<none>                          275.60 -14543\n",
      "+ BlackPop          1   0.09567 275.51 -14543\n",
      "+ RankingsExercise  1   0.09424 275.51 -14543\n",
      "+ WhitePop          1   0.08613 275.52 -14543\n",
      "+ RankingsSocial    1   0.06589 275.54 -14542\n",
      "+ Unemployment      1   0.03335 275.57 -14542\n",
      "+ Poverty           1   0.02701 275.57 -14542\n",
      "+ Income            1   0.00874 275.59 -14541\n",
      "\n",
      "Step:  AIC=-14552.67\n",
      "log(EDCost.pmpm) ~ HealthyPop + ChronicPop + State + HO + Education + \n",
      "    ProvDensity + RankingsPCP + Availability + Accessibility\n",
      "\n",
      "                   Df Sum of Sq    RSS    AIC\n",
      "+ PO                1   0.34007 274.64 -14557\n",
      "+ RankingsFood      1   0.30785 274.67 -14556\n",
      "+ Urbanicity        2   0.40463 274.57 -14556\n",
      "+ RankingsExercise  1   0.13254 274.85 -14553\n",
      "<none>                          274.98 -14553\n",
      "+ WhitePop          1   0.09038 274.89 -14552\n",
      "+ BlackPop          1   0.08869 274.89 -14552\n",
      "+ RankingsSocial    1   0.07720 274.90 -14552\n",
      "+ Poverty           1   0.07064 274.91 -14552\n",
      "+ Unemployment      1   0.01510 274.96 -14551\n",
      "+ Income            1   0.00110 274.98 -14551\n",
      "\n",
      "Step:  AIC=-14556.88\n",
      "log(EDCost.pmpm) ~ HealthyPop + ChronicPop + State + HO + Education + \n",
      "    ProvDensity + RankingsPCP + Availability + Accessibility + \n",
      "    PO\n",
      "\n",
      "                   Df Sum of Sq    RSS    AIC\n",
      "+ Urbanicity        2   0.41618 274.22 -14560\n",
      "+ RankingsFood      1   0.24768 274.39 -14559\n",
      "+ BlackPop          1   0.21253 274.43 -14559\n",
      "+ RankingsExercise  1   0.17217 274.46 -14558\n",
      "<none>                          274.64 -14557\n",
      "+ RankingsSocial    1   0.08039 274.56 -14556\n",
      "+ Poverty           1   0.03699 274.60 -14556\n",
      "+ Unemployment      1   0.03116 274.61 -14556\n",
      "+ WhitePop          1   0.02690 274.61 -14555\n",
      "+ Income            1   0.01403 274.62 -14555\n",
      "\n",
      "Step:  AIC=-14560.49\n",
      "log(EDCost.pmpm) ~ HealthyPop + ChronicPop + State + HO + Education + \n",
      "    ProvDensity + RankingsPCP + Availability + Accessibility + \n",
      "    PO + Urbanicity\n",
      "\n",
      "                   Df Sum of Sq    RSS    AIC\n",
      "+ BlackPop          1  0.217159 274.00 -14562\n",
      "+ RankingsFood      1  0.213612 274.01 -14562\n",
      "+ RankingsSocial    1  0.197801 274.02 -14562\n",
      "+ RankingsExercise  1  0.109455 274.11 -14560\n",
      "<none>                          274.22 -14560\n",
      "+ Unemployment      1  0.034234 274.19 -14559\n",
      "+ Income            1  0.033224 274.19 -14559\n",
      "+ Poverty           1  0.025401 274.19 -14559\n",
      "+ WhitePop          1  0.025241 274.20 -14559\n",
      "\n",
      "Step:  AIC=-14562.47\n",
      "log(EDCost.pmpm) ~ HealthyPop + ChronicPop + State + HO + Education + \n",
      "    ProvDensity + RankingsPCP + Availability + Accessibility + \n",
      "    PO + Urbanicity + BlackPop\n",
      "\n",
      "                   Df Sum of Sq    RSS    AIC\n",
      "+ WhitePop          1    3.6229 270.38 -14627\n",
      "+ RankingsFood      1    0.6393 273.36 -14572\n",
      "+ RankingsSocial    1    0.1654 273.84 -14564\n",
      "+ RankingsExercise  1    0.1371 273.87 -14563\n",
      "<none>                          274.00 -14562\n",
      "+ Poverty           1    0.1015 273.90 -14562\n",
      "+ Income            1    0.0074 274.00 -14561\n",
      "+ Unemployment      1    0.0020 274.00 -14560\n",
      "\n",
      "Step:  AIC=-14627.28\n",
      "log(EDCost.pmpm) ~ HealthyPop + ChronicPop + State + HO + Education + \n",
      "    ProvDensity + RankingsPCP + Availability + Accessibility + \n",
      "    PO + Urbanicity + BlackPop + WhitePop\n",
      "\n",
      "                   Df Sum of Sq    RSS    AIC\n",
      "+ RankingsFood      1   0.81739 269.56 -14640\n",
      "<none>                          270.38 -14627\n",
      "+ RankingsExercise  1   0.10188 270.28 -14627\n",
      "+ RankingsSocial    1   0.01901 270.36 -14626\n",
      "+ Poverty           1   0.01744 270.36 -14626\n",
      "+ Income            1   0.00201 270.38 -14625\n",
      "+ Unemployment      1   0.00124 270.38 -14625\n",
      "\n",
      "Step:  AIC=-14640.47\n",
      "log(EDCost.pmpm) ~ HealthyPop + ChronicPop + State + HO + Education + \n",
      "    ProvDensity + RankingsPCP + Availability + Accessibility + \n",
      "    PO + Urbanicity + BlackPop + WhitePop + RankingsFood\n",
      "\n",
      "                   Df Sum of Sq    RSS    AIC\n",
      "<none>                          269.56 -14640\n",
      "+ RankingsExercise  1  0.052711 269.51 -14640\n",
      "+ Unemployment      1  0.010301 269.55 -14639\n",
      "+ Income            1  0.008805 269.56 -14639\n",
      "+ Poverty           1  0.008344 269.56 -14639\n",
      "+ RankingsSocial    1  0.001822 269.56 -14638\n"
     ]
    },
    {
     "data": {
      "text/plain": [
       "\n",
       "Call:\n",
       "lm(formula = log(EDCost.pmpm) ~ HealthyPop + ChronicPop + State + \n",
       "    HO + Education + ProvDensity + RankingsPCP + Availability + \n",
       "    Accessibility + PO + Urbanicity + BlackPop + WhitePop + RankingsFood, \n",
       "    data = dataAdult)\n",
       "\n",
       "Residuals:\n",
       "    Min      1Q  Median      3Q     Max \n",
       "-2.1289 -0.1372 -0.0007  0.1376  1.7608 \n",
       "\n",
       "Coefficients:\n",
       "                     Estimate Std. Error t value Pr(>|t|)    \n",
       "(Intercept)         2.0271089  0.0995378  20.365  < 2e-16 ***\n",
       "HealthyPop         -0.0005092  0.0007837  -0.650 0.515917    \n",
       "ChronicPop         -0.0051250  0.0020252  -2.531 0.011418 *  \n",
       "StateAR             0.9324593  0.0155667  59.901  < 2e-16 ***\n",
       "StateLA             0.9003846  0.0118631  75.898  < 2e-16 ***\n",
       "StateNC             1.4268425  0.0157605  90.533  < 2e-16 ***\n",
       "HO                 12.0476486  0.7237072  16.647  < 2e-16 ***\n",
       "Education          -0.0016689  0.0002312  -7.218 6.08e-13 ***\n",
       "ProvDensity         0.0605923  0.0156154   3.880 0.000106 ***\n",
       "RankingsPCP         0.0007885  0.0001577   5.000 5.94e-07 ***\n",
       "Availability        0.0756249  0.0191618   3.947 8.03e-05 ***\n",
       "Accessibility      -0.0019930  0.0007001  -2.847 0.004433 ** \n",
       "PO                  0.1232428  0.0406869   3.029 0.002466 ** \n",
       "UrbanicitySuburban -0.0017746  0.0136754  -0.130 0.896758    \n",
       "UrbanicityUrban     0.0226383  0.0124409   1.820 0.068870 .  \n",
       "BlackPop            0.0050790  0.0005596   9.076  < 2e-16 ***\n",
       "WhitePop            0.0046371  0.0005522   8.398  < 2e-16 ***\n",
       "RankingsFood        0.0158764  0.0040770   3.894 9.98e-05 ***\n",
       "---\n",
       "Signif. codes:  0 '***' 0.001 '**' 0.01 '*' 0.05 '.' 0.1 ' ' 1\n",
       "\n",
       "Residual standard error: 0.2322 on 5001 degrees of freedom\n",
       "Multiple R-squared:  0.8483,\tAdjusted R-squared:  0.8478 \n",
       "F-statistic:  1645 on 17 and 5001 DF,  p-value: < 2.2e-16\n"
      ]
     },
     "metadata": {},
     "output_type": "display_data"
    }
   ],
   "source": [
    "# Forward Stepwise Regression\n",
    "forward.model = step(minimum, scope=list(lower=minimum, upper=full), direction=\"forward\")\n",
    "summary(forward.model)"
   ]
  },
  {
   "cell_type": "code",
   "execution_count": 27,
   "metadata": {
    "vscode": {
     "languageId": "r"
    }
   },
   "outputs": [
    {
     "name": "stdout",
     "output_type": "stream",
     "text": [
      "Start:  AIC=-14632.41\n",
      "log(EDCost.pmpm) ~ HealthyPop + ChronicPop + State + Urbanicity + \n",
      "    HO + PO + BlackPop + WhitePop + Unemployment + Income + Poverty + \n",
      "    Education + Accessibility + Availability + ProvDensity + \n",
      "    RankingsPCP + RankingsFood + RankingsExercise + RankingsSocial\n",
      "\n",
      "                   Df Sum of Sq    RSS      AIC\n",
      "- RankingsSocial    1      0.00 269.46 -14634.4\n",
      "- Income            1      0.02 269.48 -14634.1\n",
      "- Unemployment      1      0.02 269.48 -14634.1\n",
      "- Poverty           1      0.04 269.50 -14633.7\n",
      "- RankingsExercise  1      0.05 269.51 -14633.4\n",
      "<none>                          269.46 -14632.4\n",
      "- Urbanicity        2      0.30 269.76 -14630.8\n",
      "- Accessibility     1      0.46 269.91 -14625.9\n",
      "- PO                1      0.52 269.98 -14624.7\n",
      "- RankingsFood      1      0.76 270.22 -14620.3\n",
      "- RankingsPCP       1      0.82 270.28 -14619.2\n",
      "- ProvDensity       1      0.85 270.31 -14618.6\n",
      "- Availability      1      0.90 270.36 -14617.6\n",
      "- Education         1      1.33 270.79 -14609.8\n",
      "- WhitePop          1      3.31 272.77 -14573.2\n",
      "- BlackPop          1      3.96 273.42 -14561.2\n",
      "- HO                1     14.68 284.14 -14368.2\n",
      "- State             3    456.41 725.87  -9664.8\n",
      "\n",
      "Step:  AIC=-14634.39\n",
      "log(EDCost.pmpm) ~ HealthyPop + ChronicPop + State + Urbanicity + \n",
      "    HO + PO + BlackPop + WhitePop + Unemployment + Income + Poverty + \n",
      "    Education + Accessibility + Availability + ProvDensity + \n",
      "    RankingsPCP + RankingsFood + RankingsExercise\n",
      "\n",
      "                   Df Sum of Sq    RSS      AIC\n",
      "- Income            1      0.02 269.48 -14636.0\n",
      "- Unemployment      1      0.02 269.48 -14636.0\n",
      "- Poverty           1      0.04 269.50 -14635.7\n",
      "- RankingsExercise  1      0.05 269.51 -14635.4\n",
      "<none>                          269.46 -14634.4\n",
      "- Urbanicity        2      0.31 269.77 -14632.7\n",
      "- Accessibility     1      0.45 269.91 -14627.9\n",
      "- PO                1      0.52 269.98 -14626.7\n",
      "- RankingsFood      1      0.78 270.24 -14621.9\n",
      "- ProvDensity       1      0.86 270.32 -14620.5\n",
      "- RankingsPCP       1      0.86 270.32 -14620.3\n",
      "- Availability      1      0.90 270.36 -14619.6\n",
      "- Education         1      1.33 270.79 -14611.7\n",
      "- WhitePop          1      3.61 273.07 -14569.7\n",
      "- BlackPop          1      4.25 273.71 -14557.9\n",
      "- HO                1     14.73 284.19 -14369.2\n",
      "- State             3    462.37 731.83  -9625.7\n",
      "\n",
      "Step:  AIC=-14636.05\n",
      "log(EDCost.pmpm) ~ HealthyPop + ChronicPop + State + Urbanicity + \n",
      "    HO + PO + BlackPop + WhitePop + Unemployment + Poverty + \n",
      "    Education + Accessibility + Availability + ProvDensity + \n",
      "    RankingsPCP + RankingsFood + RankingsExercise\n",
      "\n",
      "                   Df Sum of Sq    RSS      AIC\n",
      "- Unemployment      1      0.02 269.50 -14637.6\n",
      "- Poverty           1      0.02 269.50 -14637.6\n",
      "- RankingsExercise  1      0.05 269.53 -14637.1\n",
      "<none>                          269.48 -14636.0\n",
      "- Urbanicity        2      0.30 269.78 -14634.5\n",
      "- Accessibility     1      0.46 269.94 -14629.5\n",
      "- PO                1      0.51 269.99 -14628.6\n",
      "- RankingsFood      1      0.77 270.25 -14623.7\n",
      "- ProvDensity       1      0.84 270.32 -14622.4\n",
      "- RankingsPCP       1      0.88 270.36 -14621.6\n",
      "- Availability      1      0.89 270.37 -14621.5\n",
      "- Education         1      2.11 271.59 -14598.9\n",
      "- WhitePop          1      3.65 273.13 -14570.5\n",
      "- BlackPop          1      4.32 273.80 -14558.3\n",
      "- HO                1     14.75 284.23 -14370.6\n",
      "- State             3    462.56 732.04  -9626.3\n",
      "\n",
      "Step:  AIC=-14637.65\n",
      "log(EDCost.pmpm) ~ HealthyPop + ChronicPop + State + Urbanicity + \n",
      "    HO + PO + BlackPop + WhitePop + Poverty + Education + Accessibility + \n",
      "    Availability + ProvDensity + RankingsPCP + RankingsFood + \n",
      "    RankingsExercise\n",
      "\n",
      "                   Df Sum of Sq    RSS      AIC\n",
      "- Poverty           1      0.01 269.51 -14639.5\n",
      "- RankingsExercise  1      0.05 269.56 -14638.6\n",
      "<none>                          269.50 -14637.6\n",
      "- Urbanicity        2      0.30 269.80 -14636.1\n",
      "- Accessibility     1      0.47 269.97 -14631.0\n",
      "- PO                1      0.51 270.01 -14630.1\n",
      "- RankingsFood      1      0.76 270.26 -14625.6\n",
      "- ProvDensity       1      0.83 270.33 -14624.2\n",
      "- RankingsPCP       1      0.87 270.37 -14623.4\n",
      "- Availability      1      0.88 270.38 -14623.2\n",
      "- Education         1      2.27 271.77 -14597.5\n",
      "- WhitePop          1      3.69 273.19 -14571.4\n",
      "- BlackPop          1      4.42 273.92 -14558.1\n",
      "- HO                1     14.74 284.24 -14372.5\n",
      "- State             3    462.57 732.07  -9628.1\n",
      "\n",
      "Step:  AIC=-14639.45\n",
      "log(EDCost.pmpm) ~ HealthyPop + ChronicPop + State + Urbanicity + \n",
      "    HO + PO + BlackPop + WhitePop + Education + Accessibility + \n",
      "    Availability + ProvDensity + RankingsPCP + RankingsFood + \n",
      "    RankingsExercise\n",
      "\n",
      "                   Df Sum of Sq    RSS      AIC\n",
      "- RankingsExercise  1      0.05 269.56 -14640.5\n",
      "<none>                          269.51 -14639.5\n",
      "- Urbanicity        2      0.31 269.82 -14637.8\n",
      "- Accessibility     1      0.46 269.97 -14633.0\n",
      "- PO                1      0.52 270.03 -14631.8\n",
      "- RankingsFood      1      0.77 270.28 -14627.2\n",
      "- ProvDensity       1      0.83 270.35 -14625.9\n",
      "- RankingsPCP       1      0.87 270.38 -14625.3\n",
      "- Availability      1      0.89 270.40 -14624.9\n",
      "- Education         1      2.85 272.36 -14588.6\n",
      "- WhitePop          1      3.77 273.28 -14571.8\n",
      "- BlackPop          1      4.42 273.93 -14559.9\n",
      "- HO                1     14.73 284.24 -14374.3\n",
      "- State             3    466.41 735.92  -9603.8\n",
      "\n",
      "Step:  AIC=-14640.47\n",
      "log(EDCost.pmpm) ~ HealthyPop + ChronicPop + State + Urbanicity + \n",
      "    HO + PO + BlackPop + WhitePop + Education + Accessibility + \n",
      "    Availability + ProvDensity + RankingsPCP + RankingsFood\n",
      "\n",
      "                Df Sum of Sq    RSS      AIC\n",
      "<none>                       269.56 -14640.5\n",
      "- Urbanicity     2      0.34 269.91 -14638.1\n",
      "- Accessibility  1      0.44 270.00 -14634.3\n",
      "- PO             1      0.49 270.06 -14633.3\n",
      "- ProvDensity    1      0.81 270.37 -14627.4\n",
      "- RankingsFood   1      0.82 270.38 -14627.3\n",
      "- Availability   1      0.84 270.40 -14626.9\n",
      "- RankingsPCP    1      1.35 270.91 -14617.4\n",
      "- Education      1      2.81 272.37 -14590.5\n",
      "- WhitePop       1      3.80 273.36 -14572.2\n",
      "- BlackPop       1      4.44 274.00 -14560.5\n",
      "- HO             1     14.94 284.50 -14371.8\n",
      "- State          3    533.16 802.73  -9169.7\n"
     ]
    },
    {
     "data": {
      "text/plain": [
       "\n",
       "Call:\n",
       "lm(formula = log(EDCost.pmpm) ~ HealthyPop + ChronicPop + State + \n",
       "    Urbanicity + HO + PO + BlackPop + WhitePop + Education + \n",
       "    Accessibility + Availability + ProvDensity + RankingsPCP + \n",
       "    RankingsFood, data = dataAdult)\n",
       "\n",
       "Residuals:\n",
       "    Min      1Q  Median      3Q     Max \n",
       "-2.1289 -0.1372 -0.0007  0.1376  1.7608 \n",
       "\n",
       "Coefficients:\n",
       "                     Estimate Std. Error t value Pr(>|t|)    \n",
       "(Intercept)         2.0271089  0.0995378  20.365  < 2e-16 ***\n",
       "HealthyPop         -0.0005092  0.0007837  -0.650 0.515917    \n",
       "ChronicPop         -0.0051250  0.0020252  -2.531 0.011418 *  \n",
       "StateAR             0.9324593  0.0155667  59.901  < 2e-16 ***\n",
       "StateLA             0.9003846  0.0118631  75.898  < 2e-16 ***\n",
       "StateNC             1.4268425  0.0157605  90.533  < 2e-16 ***\n",
       "UrbanicitySuburban -0.0017746  0.0136754  -0.130 0.896758    \n",
       "UrbanicityUrban     0.0226383  0.0124409   1.820 0.068870 .  \n",
       "HO                 12.0476486  0.7237072  16.647  < 2e-16 ***\n",
       "PO                  0.1232428  0.0406869   3.029 0.002466 ** \n",
       "BlackPop            0.0050790  0.0005596   9.076  < 2e-16 ***\n",
       "WhitePop            0.0046371  0.0005522   8.398  < 2e-16 ***\n",
       "Education          -0.0016689  0.0002312  -7.218 6.08e-13 ***\n",
       "Accessibility      -0.0019930  0.0007001  -2.847 0.004433 ** \n",
       "Availability        0.0756249  0.0191618   3.947 8.03e-05 ***\n",
       "ProvDensity         0.0605923  0.0156154   3.880 0.000106 ***\n",
       "RankingsPCP         0.0007885  0.0001577   5.000 5.94e-07 ***\n",
       "RankingsFood        0.0158764  0.0040770   3.894 9.98e-05 ***\n",
       "---\n",
       "Signif. codes:  0 '***' 0.001 '**' 0.01 '*' 0.05 '.' 0.1 ' ' 1\n",
       "\n",
       "Residual standard error: 0.2322 on 5001 degrees of freedom\n",
       "Multiple R-squared:  0.8483,\tAdjusted R-squared:  0.8478 \n",
       "F-statistic:  1645 on 17 and 5001 DF,  p-value: < 2.2e-16\n"
      ]
     },
     "metadata": {},
     "output_type": "display_data"
    }
   ],
   "source": [
    "# Backward Stepwise Regression\n",
    "backward.model = step(full, scope=list(lower=minimum, upper=full), direction = \"backward\")\n",
    "summary(backward.model)"
   ]
  },
  {
   "cell_type": "code",
   "execution_count": 28,
   "metadata": {
    "vscode": {
     "languageId": "r"
    }
   },
   "outputs": [
    {
     "name": "stdout",
     "output_type": "stream",
     "text": [
      "Start:  AIC=-6508.82\n",
      "log(EDCost.pmpm) ~ HealthyPop + ChronicPop\n",
      "\n",
      "                   Df Sum of Sq     RSS      AIC\n",
      "+ State             3   1072.51  298.02 -14160.8\n",
      "+ PO                1    321.40 1049.14  -7848.1\n",
      "+ RankingsExercise  1    203.59 1166.94  -7313.9\n",
      "+ RankingsPCP       1     68.73 1301.81  -6765.0\n",
      "+ Accessibility     1     64.72 1305.82  -6749.6\n",
      "+ Urbanicity        2     61.31 1309.22  -6734.5\n",
      "+ Availability      1     56.64 1313.90  -6718.6\n",
      "+ Income            1     56.10 1314.43  -6716.6\n",
      "+ Education         1     53.76 1316.77  -6707.7\n",
      "+ RankingsSocial    1     49.80 1320.73  -6692.6\n",
      "+ ProvDensity       1     37.63 1332.90  -6646.6\n",
      "+ Poverty           1     25.98 1344.55  -6602.9\n",
      "+ RankingsFood      1     17.84 1352.70  -6572.6\n",
      "+ Unemployment      1     11.70 1358.84  -6549.8\n",
      "+ WhitePop          1      5.95 1364.58  -6528.7\n",
      "+ BlackPop          1      4.04 1366.49  -6521.6\n",
      "<none>                          1370.53  -6508.8\n",
      "+ HO                1      0.40 1370.13  -6508.3\n",
      "\n",
      "Step:  AIC=-14160.81\n",
      "log(EDCost.pmpm) ~ HealthyPop + ChronicPop + State\n",
      "\n",
      "                   Df Sum of Sq     RSS      AIC\n",
      "+ HO                1     16.22  281.80 -14439.7\n",
      "+ Education         1      2.45  295.57 -14200.2\n",
      "+ ProvDensity       1      1.73  296.29 -14188.1\n",
      "+ Income            1      1.48  296.54 -14183.7\n",
      "+ RankingsPCP       1      0.80  297.21 -14172.4\n",
      "+ Urbanicity        2      0.85  297.17 -14171.1\n",
      "+ Poverty           1      0.65  297.37 -14169.8\n",
      "+ RankingsFood      1      0.56  297.46 -14168.3\n",
      "+ Unemployment      1      0.52  297.49 -14167.7\n",
      "+ RankingsSocial    1      0.50  297.52 -14167.2\n",
      "+ Availability      1      0.35  297.67 -14164.6\n",
      "+ BlackPop          1      0.34  297.68 -14164.5\n",
      "<none>                           298.02 -14160.8\n",
      "+ RankingsExercise  1      0.02  298.00 -14159.1\n",
      "+ Accessibility     1      0.01  298.01 -14159.0\n",
      "+ WhitePop          1      0.00  298.02 -14158.8\n",
      "+ PO                1      0.00  298.02 -14158.8\n",
      "- State             3   1072.51 1370.53  -6508.8\n",
      "\n",
      "Step:  AIC=-14439.66\n",
      "log(EDCost.pmpm) ~ HealthyPop + ChronicPop + State + HO\n",
      "\n",
      "                   Df Sum of Sq     RSS      AIC\n",
      "+ Education         1      2.54  279.26 -14483.0\n",
      "+ Income            1      1.23  280.57 -14459.7\n",
      "+ ProvDensity       1      1.10  280.70 -14457.2\n",
      "+ Urbanicity        2      1.03  280.77 -14454.1\n",
      "+ RankingsPCP       1      0.60  281.20 -14448.3\n",
      "+ Unemployment      1      0.53  281.27 -14447.1\n",
      "+ Poverty           1      0.36  281.44 -14444.1\n",
      "+ RankingsSocial    1      0.32  281.48 -14443.3\n",
      "+ PO                1      0.30  281.50 -14442.9\n",
      "+ RankingsFood      1      0.29  281.51 -14442.8\n",
      "+ Availability      1      0.19  281.61 -14441.1\n",
      "+ RankingsExercise  1      0.16  281.64 -14440.5\n",
      "+ BlackPop          1      0.15  281.65 -14440.4\n",
      "<none>                           281.80 -14439.7\n",
      "+ WhitePop          1      0.08  281.72 -14439.0\n",
      "+ Accessibility     1      0.00  281.80 -14437.7\n",
      "- HO                1     16.22  298.02 -14160.8\n",
      "- State             3   1088.33 1370.13  -6508.3\n",
      "\n",
      "Step:  AIC=-14483.05\n",
      "log(EDCost.pmpm) ~ HealthyPop + ChronicPop + State + HO + Education\n",
      "\n",
      "                   Df Sum of Sq     RSS      AIC\n",
      "+ ProvDensity       1      2.29  276.97 -14522.4\n",
      "+ RankingsPCP       1      1.87  277.39 -14514.9\n",
      "+ Urbanicity        2      1.57  277.69 -14507.4\n",
      "+ RankingsExercise  1      0.82  278.45 -14495.7\n",
      "+ RankingsFood      1      0.37  278.89 -14487.7\n",
      "+ Accessibility     1      0.27  278.99 -14486.0\n",
      "+ RankingsSocial    1      0.25  279.02 -14485.5\n",
      "+ BlackPop          1      0.13  279.13 -14483.4\n",
      "<none>                           279.26 -14483.0\n",
      "+ PO                1      0.11  279.15 -14483.0\n",
      "+ WhitePop          1      0.05  279.22 -14481.9\n",
      "+ Poverty           1      0.01  279.25 -14481.3\n",
      "+ Unemployment      1      0.01  279.25 -14481.2\n",
      "+ Income            1      0.00  279.26 -14481.1\n",
      "+ Availability      1      0.00  279.26 -14481.0\n",
      "- Education         1      2.54  281.80 -14439.7\n",
      "- HO                1     16.30  295.57 -14200.2\n",
      "- State             3   1035.38 1314.64  -6713.8\n",
      "\n",
      "Step:  AIC=-14522.4\n",
      "log(EDCost.pmpm) ~ HealthyPop + ChronicPop + State + HO + Education + \n",
      "    ProvDensity\n",
      "\n",
      "                   Df Sum of Sq     RSS      AIC\n",
      "+ RankingsPCP       1      0.73  276.24 -14533.7\n",
      "+ Urbanicity        2      0.49  276.49 -14527.2\n",
      "+ PO                1      0.34  276.63 -14526.6\n",
      "+ RankingsExercise  1      0.29  276.68 -14525.6\n",
      "+ RankingsSocial    1      0.22  276.75 -14524.3\n",
      "+ Availability      1      0.20  276.77 -14524.0\n",
      "+ RankingsFood      1      0.19  276.78 -14523.9\n",
      "+ Accessibility     1      0.14  276.83 -14522.9\n",
      "<none>                           276.97 -14522.4\n",
      "+ BlackPop          1      0.09  276.88 -14522.1\n",
      "+ WhitePop          1      0.08  276.89 -14521.9\n",
      "+ Poverty           1      0.03  276.94 -14520.9\n",
      "+ Unemployment      1      0.02  276.95 -14520.7\n",
      "+ Income            1      0.01  276.96 -14520.6\n",
      "- ProvDensity       1      2.29  279.26 -14483.0\n",
      "- Education         1      3.73  280.70 -14457.2\n",
      "- HO                1     15.41  292.39 -14252.6\n",
      "- State             3   1020.82 1297.79  -6776.5\n",
      "\n",
      "Step:  AIC=-14533.68\n",
      "log(EDCost.pmpm) ~ HealthyPop + ChronicPop + State + HO + Education + \n",
      "    ProvDensity + RankingsPCP\n",
      "\n",
      "                   Df Sum of Sq     RSS      AIC\n",
      "+ Availability      1      0.64  275.60 -14543.3\n",
      "+ PO                1      0.49  275.75 -14540.6\n",
      "+ RankingsFood      1      0.39  275.85 -14538.8\n",
      "+ Urbanicity        2      0.38  275.86 -14536.6\n",
      "+ WhitePop          1      0.20  276.04 -14535.3\n",
      "+ Poverty           1      0.11  276.13 -14533.7\n",
      "<none>                           276.24 -14533.7\n",
      "+ RankingsSocial    1      0.08  276.16 -14533.2\n",
      "+ BlackPop          1      0.03  276.21 -14532.2\n",
      "+ Accessibility     1      0.02  276.22 -14532.1\n",
      "+ RankingsExercise  1      0.01  276.23 -14531.9\n",
      "+ Income            1      0.01  276.23 -14531.8\n",
      "+ Unemployment      1      0.00  276.24 -14531.7\n",
      "- RankingsPCP       1      0.73  276.97 -14522.4\n",
      "- ProvDensity       1      1.15  277.39 -14514.9\n",
      "- Education         1      4.34  280.58 -14457.5\n",
      "- HO                1     15.38  291.62 -14263.7\n",
      "- State             3    999.17 1275.41  -6861.8\n",
      "\n",
      "Step:  AIC=-14543.28\n",
      "log(EDCost.pmpm) ~ HealthyPop + ChronicPop + State + HO + Education + \n",
      "    ProvDensity + RankingsPCP + Availability\n",
      "\n",
      "                   Df Sum of Sq     RSS      AIC\n",
      "+ Accessibility     1      0.63  274.98 -14552.7\n",
      "+ PO                1      0.40  275.21 -14548.5\n",
      "+ RankingsFood      1      0.34  275.26 -14547.4\n",
      "+ Urbanicity        2      0.42  275.18 -14546.9\n",
      "<none>                           275.60 -14543.3\n",
      "+ BlackPop          1      0.10  275.51 -14543.0\n",
      "+ RankingsExercise  1      0.09  275.51 -14543.0\n",
      "+ WhitePop          1      0.09  275.52 -14542.8\n",
      "+ RankingsSocial    1      0.07  275.54 -14542.5\n",
      "+ Unemployment      1      0.03  275.57 -14541.9\n",
      "+ Poverty           1      0.03  275.58 -14541.8\n",
      "+ Income            1      0.01  275.59 -14541.4\n",
      "- Availability      1      0.64  276.24 -14533.7\n",
      "- RankingsPCP       1      1.17  276.77 -14524.0\n",
      "- ProvDensity       1      1.40  277.00 -14519.8\n",
      "- Education         1      3.83  279.43 -14476.0\n",
      "- HO                1     14.89  290.49 -14281.2\n",
      "- State             3    991.38 1266.98  -6893.1\n",
      "\n",
      "Step:  AIC=-14552.67\n",
      "log(EDCost.pmpm) ~ HealthyPop + ChronicPop + State + HO + Education + \n",
      "    ProvDensity + RankingsPCP + Availability + Accessibility\n",
      "\n",
      "                   Df Sum of Sq     RSS      AIC\n",
      "+ PO                1      0.34  274.64 -14556.9\n",
      "+ RankingsFood      1      0.31  274.67 -14556.3\n",
      "+ Urbanicity        2      0.40  274.57 -14556.1\n",
      "+ RankingsExercise  1      0.13  274.84 -14553.1\n",
      "<none>                           274.98 -14552.7\n",
      "+ WhitePop          1      0.09  274.89 -14552.3\n",
      "+ BlackPop          1      0.09  274.89 -14552.3\n",
      "+ RankingsSocial    1      0.08  274.90 -14552.1\n",
      "+ Poverty           1      0.07  274.91 -14552.0\n",
      "+ Unemployment      1      0.02  274.96 -14550.9\n",
      "+ Income            1      0.00  274.98 -14550.7\n",
      "- Accessibility     1      0.63  275.60 -14543.3\n",
      "- RankingsPCP       1      1.04  276.02 -14535.7\n",
      "- Availability      1      1.24  276.22 -14532.1\n",
      "- ProvDensity       1      1.64  276.61 -14524.9\n",
      "- Education         1      4.21  279.19 -14478.4\n",
      "- HO                1     14.44  289.41 -14297.8\n",
      "- State             3    981.41 1256.39  -6933.3\n",
      "\n",
      "Step:  AIC=-14556.88\n",
      "log(EDCost.pmpm) ~ HealthyPop + ChronicPop + State + HO + Education + \n",
      "    ProvDensity + RankingsPCP + Availability + Accessibility + \n",
      "    PO\n",
      "\n",
      "                   Df Sum of Sq    RSS      AIC\n",
      "+ Urbanicity        2      0.42 274.22 -14560.5\n",
      "+ RankingsFood      1      0.25 274.39 -14559.4\n",
      "+ BlackPop          1      0.21 274.42 -14558.8\n",
      "+ RankingsExercise  1      0.17 274.46 -14558.0\n",
      "<none>                          274.64 -14556.9\n",
      "+ RankingsSocial    1      0.08 274.56 -14556.4\n",
      "+ Poverty           1      0.04 274.60 -14555.6\n",
      "+ Unemployment      1      0.03 274.61 -14555.5\n",
      "+ WhitePop          1      0.03 274.61 -14555.4\n",
      "+ Income            1      0.01 274.62 -14555.1\n",
      "- PO                1      0.34 274.98 -14552.7\n",
      "- Accessibility     1      0.57 275.21 -14548.5\n",
      "- Availability      1      1.09 275.73 -14539.0\n",
      "- RankingsPCP       1      1.15 275.78 -14538.0\n",
      "- ProvDensity       1      1.75 276.39 -14527.0\n",
      "- Education         1      4.07 278.71 -14485.0\n",
      "- HO                1     14.77 289.41 -14295.9\n",
      "- State             3    625.56 900.20  -8604.5\n",
      "\n",
      "Step:  AIC=-14560.49\n",
      "log(EDCost.pmpm) ~ HealthyPop + ChronicPop + State + HO + Education + \n",
      "    ProvDensity + RankingsPCP + Availability + Accessibility + \n",
      "    PO + Urbanicity\n",
      "\n",
      "                   Df Sum of Sq    RSS      AIC\n",
      "+ BlackPop          1      0.22 274.00 -14562.5\n",
      "+ RankingsFood      1      0.21 274.01 -14562.4\n",
      "+ RankingsSocial    1      0.20 274.02 -14562.1\n",
      "+ RankingsExercise  1      0.11 274.11 -14560.5\n",
      "<none>                          274.22 -14560.5\n",
      "+ Unemployment      1      0.03 274.19 -14559.1\n",
      "+ Income            1      0.03 274.19 -14559.1\n",
      "+ Poverty           1      0.03 274.20 -14559.0\n",
      "+ WhitePop          1      0.03 274.20 -14559.0\n",
      "- Urbanicity        2      0.42 274.64 -14556.9\n",
      "- PO                1      0.35 274.57 -14556.1\n",
      "- Accessibility     1      0.57 274.79 -14552.0\n",
      "- RankingsPCP       1      1.04 275.26 -14543.5\n",
      "- ProvDensity       1      1.07 275.29 -14543.0\n",
      "- Availability      1      1.12 275.34 -14542.1\n",
      "- Education         1      4.10 278.32 -14488.1\n",
      "- HO                1     14.92 289.14 -14296.7\n",
      "- State             3    604.29 878.51  -8722.9\n",
      "\n",
      "Step:  AIC=-14562.47\n",
      "log(EDCost.pmpm) ~ HealthyPop + ChronicPop + State + HO + Education + \n",
      "    ProvDensity + RankingsPCP + Availability + Accessibility + \n",
      "    PO + Urbanicity + BlackPop\n",
      "\n",
      "                   Df Sum of Sq    RSS      AIC\n",
      "+ WhitePop          1      3.62 270.38 -14627.3\n",
      "+ RankingsFood      1      0.64 273.36 -14572.2\n",
      "+ RankingsSocial    1      0.17 273.84 -14563.5\n",
      "+ RankingsExercise  1      0.14 273.87 -14563.0\n",
      "<none>                          274.00 -14562.5\n",
      "+ Poverty           1      0.10 273.90 -14562.3\n",
      "+ Income            1      0.01 274.00 -14560.6\n",
      "+ Unemployment      1      0.00 274.00 -14560.5\n",
      "- BlackPop          1      0.22 274.22 -14560.5\n",
      "- Urbanicity        2      0.42 274.42 -14558.8\n",
      "- PO                1      0.47 274.48 -14555.8\n",
      "- Accessibility     1      0.55 274.55 -14554.4\n",
      "- RankingsPCP       1      0.96 274.96 -14546.9\n",
      "- ProvDensity       1      1.13 275.13 -14543.8\n",
      "- Availability      1      1.21 275.22 -14542.3\n",
      "- Education         1      3.83 277.84 -14494.7\n",
      "- HO                1     14.84 288.84 -14299.7\n",
      "- State             3    584.74 858.75  -8835.1\n",
      "\n",
      "Step:  AIC=-14627.28\n",
      "log(EDCost.pmpm) ~ HealthyPop + ChronicPop + State + HO + Education + \n",
      "    ProvDensity + RankingsPCP + Availability + Accessibility + \n",
      "    PO + Urbanicity + BlackPop + WhitePop\n",
      "\n",
      "                   Df Sum of Sq    RSS      AIC\n",
      "+ RankingsFood      1      0.82 269.56 -14640.5\n",
      "<none>                          270.38 -14627.3\n",
      "+ RankingsExercise  1      0.10 270.28 -14627.2\n",
      "+ RankingsSocial    1      0.02 270.36 -14625.6\n",
      "+ Poverty           1      0.02 270.36 -14625.6\n",
      "+ Income            1      0.00 270.38 -14625.3\n",
      "+ Unemployment      1      0.00 270.38 -14625.3\n",
      "- Urbanicity        2      0.41 270.79 -14623.6\n",
      "- PO                1      0.46 270.85 -14620.7\n",
      "- Accessibility     1      0.50 270.89 -14619.9\n",
      "- Availability      1      0.85 271.23 -14613.5\n",
      "- RankingsPCP       1      1.07 271.45 -14609.5\n",
      "- ProvDensity       1      1.13 271.51 -14608.4\n",
      "- Education         1      2.78 273.16 -14577.9\n",
      "- WhitePop          1      3.62 274.00 -14562.5\n",
      "- BlackPop          1      3.81 274.20 -14559.0\n",
      "- HO                1     15.55 285.93 -14348.6\n",
      "- State             3    540.53 810.91  -9120.8\n",
      "\n",
      "Step:  AIC=-14640.47\n",
      "log(EDCost.pmpm) ~ HealthyPop + ChronicPop + State + HO + Education + \n",
      "    ProvDensity + RankingsPCP + Availability + Accessibility + \n",
      "    PO + Urbanicity + BlackPop + WhitePop + RankingsFood\n",
      "\n",
      "                   Df Sum of Sq    RSS      AIC\n",
      "<none>                          269.56 -14640.5\n",
      "+ RankingsExercise  1      0.05 269.51 -14639.5\n",
      "+ Unemployment      1      0.01 269.55 -14638.7\n",
      "+ Income            1      0.01 269.55 -14638.6\n",
      "+ Poverty           1      0.01 269.56 -14638.6\n",
      "+ RankingsSocial    1      0.00 269.56 -14638.5\n",
      "- Urbanicity        2      0.34 269.91 -14638.1\n",
      "- Accessibility     1      0.44 270.00 -14634.3\n",
      "- PO                1      0.49 270.06 -14633.3\n",
      "- ProvDensity       1      0.81 270.37 -14627.4\n",
      "- RankingsFood      1      0.82 270.38 -14627.3\n",
      "- Availability      1      0.84 270.40 -14626.9\n",
      "- RankingsPCP       1      1.35 270.91 -14617.4\n",
      "- Education         1      2.81 272.37 -14590.5\n",
      "- WhitePop          1      3.80 273.36 -14572.2\n",
      "- BlackPop          1      4.44 274.00 -14560.5\n",
      "- HO                1     14.94 284.50 -14371.8\n",
      "- State             3    533.16 802.73  -9169.7\n"
     ]
    },
    {
     "data": {
      "text/plain": [
       "\n",
       "Call:\n",
       "lm(formula = log(EDCost.pmpm) ~ HealthyPop + ChronicPop + State + \n",
       "    HO + Education + ProvDensity + RankingsPCP + Availability + \n",
       "    Accessibility + PO + Urbanicity + BlackPop + WhitePop + RankingsFood, \n",
       "    data = dataAdult)\n",
       "\n",
       "Residuals:\n",
       "    Min      1Q  Median      3Q     Max \n",
       "-2.1289 -0.1372 -0.0007  0.1376  1.7608 \n",
       "\n",
       "Coefficients:\n",
       "                     Estimate Std. Error t value Pr(>|t|)    \n",
       "(Intercept)         2.0271089  0.0995378  20.365  < 2e-16 ***\n",
       "HealthyPop         -0.0005092  0.0007837  -0.650 0.515917    \n",
       "ChronicPop         -0.0051250  0.0020252  -2.531 0.011418 *  \n",
       "StateAR             0.9324593  0.0155667  59.901  < 2e-16 ***\n",
       "StateLA             0.9003846  0.0118631  75.898  < 2e-16 ***\n",
       "StateNC             1.4268425  0.0157605  90.533  < 2e-16 ***\n",
       "HO                 12.0476486  0.7237072  16.647  < 2e-16 ***\n",
       "Education          -0.0016689  0.0002312  -7.218 6.08e-13 ***\n",
       "ProvDensity         0.0605923  0.0156154   3.880 0.000106 ***\n",
       "RankingsPCP         0.0007885  0.0001577   5.000 5.94e-07 ***\n",
       "Availability        0.0756249  0.0191618   3.947 8.03e-05 ***\n",
       "Accessibility      -0.0019930  0.0007001  -2.847 0.004433 ** \n",
       "PO                  0.1232428  0.0406869   3.029 0.002466 ** \n",
       "UrbanicitySuburban -0.0017746  0.0136754  -0.130 0.896758    \n",
       "UrbanicityUrban     0.0226383  0.0124409   1.820 0.068870 .  \n",
       "BlackPop            0.0050790  0.0005596   9.076  < 2e-16 ***\n",
       "WhitePop            0.0046371  0.0005522   8.398  < 2e-16 ***\n",
       "RankingsFood        0.0158764  0.0040770   3.894 9.98e-05 ***\n",
       "---\n",
       "Signif. codes:  0 '***' 0.001 '**' 0.01 '*' 0.05 '.' 0.1 ' ' 1\n",
       "\n",
       "Residual standard error: 0.2322 on 5001 degrees of freedom\n",
       "Multiple R-squared:  0.8483,\tAdjusted R-squared:  0.8478 \n",
       "F-statistic:  1645 on 17 and 5001 DF,  p-value: < 2.2e-16\n"
      ]
     },
     "metadata": {},
     "output_type": "display_data"
    }
   ],
   "source": [
    "# Forward-Backward Stepwise Regression\n",
    "both.min.model = step(minimum, scope=list(lower=minimum, upper=full), direction = \"both\")\n",
    "summary(both.min.model)"
   ]
  },
  {
   "cell_type": "markdown",
   "metadata": {},
   "source": [
    "The variables not selected by all stepwise regression methods are unemployment, income, poverty, and county ranking by exercise. Forward stepwise regression selects one more variable, RankingsSocial. These are also predicting variables that were not statistically significant in the full model. \n",
    "\n",
    "The model explains 85% of the variability in the ED cost. The dummy variable corresponding to suburban communities versus rural communities (the baseline) is not statistically significant although it has been selected by stepwise regression. Similarly, the dummy variable corresponding to the urban dummy variable is not statistically significant at 0.05 because the p-value is 0.06. Recall that we tested whether the urbanicity qualitative variable should be included in the full model, concluding that the model without this categorical variable performs similarly to the full model.\n",
    "\n",
    "Access measures remain statistically significantly associated to log of ED healthcare cost. Both measures were selected by stepwise regression. \n"
   ]
  },
  {
   "cell_type": "code",
   "execution_count": 29,
   "metadata": {
    "vscode": {
     "languageId": "r"
    }
   },
   "outputs": [
    {
     "data": {
      "text/html": [
       "<table class=\"dataframe\">\n",
       "<caption>A anova: 2 × 6</caption>\n",
       "<thead>\n",
       "\t<tr><th></th><th scope=col>Res.Df</th><th scope=col>RSS</th><th scope=col>Df</th><th scope=col>Sum of Sq</th><th scope=col>F</th><th scope=col>Pr(&gt;F)</th></tr>\n",
       "\t<tr><th></th><th scope=col>&lt;dbl&gt;</th><th scope=col>&lt;dbl&gt;</th><th scope=col>&lt;dbl&gt;</th><th scope=col>&lt;dbl&gt;</th><th scope=col>&lt;dbl&gt;</th><th scope=col>&lt;dbl&gt;</th></tr>\n",
       "</thead>\n",
       "<tbody>\n",
       "\t<tr><th scope=row>1</th><td>5001</td><td>269.5634</td><td>NA</td><td>       NA</td><td>       NA</td><td>       NA</td></tr>\n",
       "\t<tr><th scope=row>2</th><td>4996</td><td>269.4593</td><td> 5</td><td>0.1040613</td><td>0.3858767</td><td>0.8587993</td></tr>\n",
       "</tbody>\n",
       "</table>\n"
      ],
      "text/latex": [
       "A anova: 2 × 6\n",
       "\\begin{tabular}{r|llllll}\n",
       "  & Res.Df & RSS & Df & Sum of Sq & F & Pr(>F)\\\\\n",
       "  & <dbl> & <dbl> & <dbl> & <dbl> & <dbl> & <dbl>\\\\\n",
       "\\hline\n",
       "\t1 & 5001 & 269.5634 & NA &        NA &        NA &        NA\\\\\n",
       "\t2 & 4996 & 269.4593 &  5 & 0.1040613 & 0.3858767 & 0.8587993\\\\\n",
       "\\end{tabular}\n"
      ],
      "text/markdown": [
       "\n",
       "A anova: 2 × 6\n",
       "\n",
       "| <!--/--> | Res.Df &lt;dbl&gt; | RSS &lt;dbl&gt; | Df &lt;dbl&gt; | Sum of Sq &lt;dbl&gt; | F &lt;dbl&gt; | Pr(&gt;F) &lt;dbl&gt; |\n",
       "|---|---|---|---|---|---|---|\n",
       "| 1 | 5001 | 269.5634 | NA |        NA |        NA |        NA |\n",
       "| 2 | 4996 | 269.4593 |  5 | 0.1040613 | 0.3858767 | 0.8587993 |\n",
       "\n"
      ],
      "text/plain": [
       "  Res.Df RSS      Df Sum of Sq F         Pr(>F)   \n",
       "1 5001   269.5634 NA        NA        NA        NA\n",
       "2 4996   269.4593  5 0.1040613 0.3858767 0.8587993"
      ]
     },
     "metadata": {},
     "output_type": "display_data"
    }
   ],
   "source": [
    "# Compare full model to selected model\n",
    "reg.step = lm(log(EDCost.pmpm) ~ HealthyPop + ChronicPop + State +  Urbanicity + HO       \n",
    "           + PO + BlackPop + WhitePop + Education +  Accessibility + Availability \n",
    "           + ProvDensity + RankingsPCP + RankingsFood, ,data=dataAdult)\n",
    "\n",
    "anova(reg.step, full)"
   ]
  },
  {
   "cell_type": "markdown",
   "metadata": {},
   "source": [
    "We compare the full model versus the reduced model including only the variables selected by stepwise regression using the partial F-test. The p-value of the test is large, indicating that we do not reject the null hypothesis corresponding to the reduced model. Thus, we conclude that the reduced model plausibly performs similarly in terms of explanatory power as the full model. We prefer the reduced model because it includes a smaller number of predicting variables."
   ]
  },
  {
   "cell_type": "markdown",
   "metadata": {},
   "source": [
    "###  Residual Analysis for Selected Model "
   ]
  },
  {
   "cell_type": "code",
   "execution_count": 30,
   "metadata": {
    "vscode": {
     "languageId": "r"
    }
   },
   "outputs": [
    {
     "data": {
      "text/html": [
       "<style>\n",
       ".list-inline {list-style: none; margin:0; padding: 0}\n",
       ".list-inline>li {display: inline-block}\n",
       ".list-inline>li:not(:last-child)::after {content: \"\\00b7\"; padding: 0 .5ex}\n",
       "</style>\n",
       "<ol class=list-inline><li>909</li><li>1396</li></ol>\n"
      ],
      "text/latex": [
       "\\begin{enumerate*}\n",
       "\\item 909\n",
       "\\item 1396\n",
       "\\end{enumerate*}\n"
      ],
      "text/markdown": [
       "1. 909\n",
       "2. 1396\n",
       "\n",
       "\n"
      ],
      "text/plain": [
       "[1]  909 1396"
      ]
     },
     "metadata": {},
     "output_type": "display_data"
    },
    {
     "data": {
      "image/png": "[encoded data removed]",
      "text/plain": [
       "Plot with title \"\""
      ]
     },
     "metadata": {
      "image/png": {
       "height": 420,
       "width": 420
      }
     },
     "output_type": "display_data"
    },
    {
     "data": {
      "image/png": "[encoded data removed]",
      "text/plain": [
       "Plot with title \"\""
      ]
     },
     "metadata": {
      "image/png": {
       "height": 420,
       "width": 420
      }
     },
     "output_type": "display_data"
    }
   ],
   "source": [
    "red.resid = rstandard(reg.step)\n",
    "red.cook = cooks.distance(reg.step)\n",
    "\n",
    "# Check normality\n",
    "qqPlot(red.resid, ylab=\"Residuals\", main = \"\")\n",
    "qqline(red.resid, col=\"red\", lwd=2)\n",
    "hist(red.resid, xlab=\"Residuals\", main = \"\", nclass=30, col=\"orange\")"
   ]
  },
  {
   "cell_type": "markdown",
   "metadata": {},
   "source": [
    "The plots show the shape of the distribution of the residuals and that the distribution is symmetric, but with heavy tails similar to the full model."
   ]
  },
  {
   "cell_type": "code",
   "execution_count": 31,
   "metadata": {
    "vscode": {
     "languageId": "r"
    }
   },
   "outputs": [
    {
     "data": {
      "image/png": "[encoded data removed]",
      "text/plain": [
       "plot without title"
      ]
     },
     "metadata": {
      "image/png": {
       "height": 420,
       "width": 420
      }
     },
     "output_type": "display_data"
    },
    {
     "data": {
      "image/png": "[encoded data removed]",
      "text/plain": [
       "plot without title"
      ]
     },
     "metadata": {
      "image/png": {
       "height": 420,
       "width": 420
      }
     },
     "output_type": "display_data"
    }
   ],
   "source": [
    "# Check Linearity\n",
    "crPlots(reg.step,ylab=\"\", ask=FALSE)"
   ]
  },
  {
   "cell_type": "markdown",
   "metadata": {},
   "source": [
    "There are no substantial differences in the diagnostics for linearity for the selected model versus the full model."
   ]
  },
  {
   "cell_type": "code",
   "execution_count": 32,
   "metadata": {
    "vscode": {
     "languageId": "r"
    }
   },
   "outputs": [],
   "source": [
    "# Remove OUtlier\n",
    "dataAdult.no.out = dataAdult[-909,]\n",
    "EDCost.pmpm.no.out = EDCost.pmpm[-909]\n",
    "\n",
    "full.no.out = lm(log(EDCost.pmpm.no.out) ~ HealthyPop + ChronicPop + State + Urbanicity +\n",
    "                     HO + PO + BlackPop + WhitePop + Unemployment + Income + Poverty +\n",
    "                     Education + Accessibility + Availability + ProvDensity + RankingsPCP +\n",
    "                     RankingsFood + RankingsExercise + RankingsSocial, data=dataAdult.no.out)\n",
    "\n",
    "minimum.no.out = lm(log(EDCost.pmpm.no.out) ~ HealthyPop+ChronicPop, data=dataAdult.no.out)"
   ]
  },
  {
   "cell_type": "code",
   "execution_count": 33,
   "metadata": {
    "vscode": {
     "languageId": "r"
    }
   },
   "outputs": [
    {
     "name": "stdout",
     "output_type": "stream",
     "text": [
      "Start:  AIC=-14719\n",
      "log(EDCost.pmpm.no.out) ~ HealthyPop + ChronicPop + State + Urbanicity + \n",
      "    HO + PO + BlackPop + WhitePop + Unemployment + Income + Poverty + \n",
      "    Education + Accessibility + Availability + ProvDensity + \n",
      "    RankingsPCP + RankingsFood + RankingsExercise + RankingsSocial\n",
      "\n",
      "                   Df Sum of Sq    RSS      AIC\n",
      "- RankingsSocial    1      0.00 264.64 -14721.0\n",
      "- Unemployment      1      0.03 264.67 -14720.4\n",
      "- RankingsExercise  1      0.04 264.68 -14720.2\n",
      "- Income            1      0.05 264.69 -14720.1\n",
      "- Poverty           1      0.05 264.69 -14720.1\n",
      "<none>                          264.64 -14719.0\n",
      "- Urbanicity        2      0.29 264.93 -14717.6\n",
      "- Accessibility     1      0.39 265.03 -14713.6\n",
      "- PO                1      0.62 265.26 -14709.3\n",
      "- RankingsPCP       1      0.75 265.39 -14706.9\n",
      "- RankingsFood      1      0.81 265.45 -14705.6\n",
      "- Availability      1      0.91 265.55 -14703.8\n",
      "- ProvDensity       1      1.00 265.64 -14702.1\n",
      "- Education         1      1.25 265.90 -14697.3\n",
      "- WhitePop          1      2.96 267.60 -14665.1\n",
      "- BlackPop          1      3.86 268.50 -14648.3\n",
      "- HO                1     13.36 278.00 -14473.9\n",
      "- State             3    457.01 721.66  -9691.1\n",
      "\n",
      "Step:  AIC=-14720.97\n",
      "log(EDCost.pmpm.no.out) ~ HealthyPop + ChronicPop + State + Urbanicity + \n",
      "    HO + PO + BlackPop + WhitePop + Unemployment + Income + Poverty + \n",
      "    Education + Accessibility + Availability + ProvDensity + \n",
      "    RankingsPCP + RankingsFood + RankingsExercise\n",
      "\n",
      "                   Df Sum of Sq    RSS      AIC\n",
      "- Unemployment      1      0.03 264.68 -14722.3\n",
      "- RankingsExercise  1      0.04 264.69 -14722.2\n",
      "- Income            1      0.05 264.69 -14722.0\n",
      "- Poverty           1      0.05 264.69 -14722.0\n",
      "<none>                          264.64 -14721.0\n",
      "- Urbanicity        2      0.29 264.94 -14719.5\n",
      "- Accessibility     1      0.39 265.03 -14715.6\n",
      "- PO                1      0.62 265.26 -14711.2\n",
      "- RankingsPCP       1      0.79 265.44 -14708.0\n",
      "- RankingsFood      1      0.83 265.47 -14707.3\n",
      "- Availability      1      0.91 265.55 -14705.8\n",
      "- ProvDensity       1      1.01 265.65 -14703.9\n",
      "- Education         1      1.26 265.90 -14699.2\n",
      "- WhitePop          1      3.24 267.89 -14661.9\n",
      "- BlackPop          1      4.16 268.80 -14644.8\n",
      "- HO                1     13.41 278.06 -14474.9\n",
      "- State             3    462.92 727.57  -9652.2\n",
      "\n",
      "Step:  AIC=-14722.34\n",
      "log(EDCost.pmpm.no.out) ~ HealthyPop + ChronicPop + State + Urbanicity + \n",
      "    HO + PO + BlackPop + WhitePop + Income + Poverty + Education + \n",
      "    Accessibility + Availability + ProvDensity + RankingsPCP + \n",
      "    RankingsFood + RankingsExercise\n",
      "\n",
      "                   Df Sum of Sq    RSS      AIC\n",
      "- Poverty           1      0.03 264.71 -14723.8\n",
      "- RankingsExercise  1      0.05 264.72 -14723.5\n",
      "- Income            1      0.05 264.73 -14723.3\n",
      "<none>                          264.68 -14722.3\n",
      "- Urbanicity        2      0.29 264.97 -14720.8\n",
      "- Accessibility     1      0.39 265.07 -14716.9\n",
      "- PO                1      0.62 265.30 -14712.5\n",
      "- RankingsPCP       1      0.78 265.45 -14709.6\n",
      "- RankingsFood      1      0.81 265.49 -14709.0\n",
      "- Availability      1      0.91 265.58 -14707.2\n",
      "- ProvDensity       1      0.99 265.67 -14705.5\n",
      "- Education         1      1.33 266.00 -14699.3\n",
      "- WhitePop          1      3.28 267.95 -14662.6\n",
      "- BlackPop          1      4.26 268.93 -14644.3\n",
      "- HO                1     13.40 278.07 -14476.6\n",
      "- State             3    462.90 727.58  -9654.1\n",
      "\n",
      "Step:  AIC=-14723.8\n",
      "log(EDCost.pmpm.no.out) ~ HealthyPop + ChronicPop + State + Urbanicity + \n",
      "    HO + PO + BlackPop + WhitePop + Income + Education + Accessibility + \n",
      "    Availability + ProvDensity + RankingsPCP + RankingsFood + \n",
      "    RankingsExercise\n",
      "\n",
      "                   Df Sum of Sq    RSS      AIC\n",
      "- Income            1      0.03 264.74 -14725.2\n",
      "- RankingsExercise  1      0.04 264.75 -14725.0\n",
      "<none>                          264.71 -14723.8\n",
      "- Urbanicity        2      0.30 265.00 -14722.2\n",
      "- Accessibility     1      0.38 265.08 -14718.7\n",
      "- PO                1      0.63 265.33 -14713.9\n",
      "- RankingsPCP       1      0.78 265.48 -14711.1\n",
      "- RankingsFood      1      0.82 265.53 -14710.3\n",
      "- Availability      1      0.91 265.61 -14708.7\n",
      "- ProvDensity       1      0.99 265.69 -14707.1\n",
      "- Education         1      1.30 266.00 -14701.3\n",
      "- WhitePop          1      3.40 268.11 -14661.7\n",
      "- BlackPop          1      4.29 269.00 -14645.1\n",
      "- HO                1     13.37 278.07 -14478.6\n",
      "- State             3    465.39 730.10  -9638.7\n",
      "\n",
      "Step:  AIC=-14725.2\n",
      "log(EDCost.pmpm.no.out) ~ HealthyPop + ChronicPop + State + Urbanicity + \n",
      "    HO + PO + BlackPop + WhitePop + Education + Accessibility + \n",
      "    Availability + ProvDensity + RankingsPCP + RankingsFood + \n",
      "    RankingsExercise\n",
      "\n",
      "                   Df Sum of Sq    RSS      AIC\n",
      "- RankingsExercise  1      0.05 264.78 -14726.3\n",
      "<none>                          264.74 -14725.2\n",
      "- Urbanicity        2      0.28 265.02 -14723.9\n",
      "- Accessibility     1      0.40 265.14 -14719.7\n",
      "- PO                1      0.61 265.35 -14715.7\n",
      "- RankingsPCP       1      0.80 265.54 -14712.0\n",
      "- RankingsFood      1      0.81 265.54 -14712.0\n",
      "- Availability      1      0.88 265.62 -14710.5\n",
      "- ProvDensity       1      0.97 265.71 -14708.9\n",
      "- Education         1      3.00 267.74 -14670.6\n",
      "- WhitePop          1      3.42 268.15 -14662.9\n",
      "- BlackPop          1      4.37 269.11 -14645.1\n",
      "- HO                1     13.43 278.17 -14478.8\n",
      "- State             3    466.73 731.47  -9631.3\n",
      "\n",
      "Step:  AIC=-14726.35\n",
      "log(EDCost.pmpm.no.out) ~ HealthyPop + ChronicPop + State + Urbanicity + \n",
      "    HO + PO + BlackPop + WhitePop + Education + Accessibility + \n",
      "    Availability + ProvDensity + RankingsPCP + RankingsFood\n",
      "\n",
      "                Df Sum of Sq    RSS      AIC\n",
      "<none>                       264.78 -14726.3\n",
      "- Urbanicity     2      0.31 265.10 -14724.4\n",
      "- Accessibility  1      0.38 265.17 -14721.1\n",
      "- PO             1      0.58 265.37 -14717.3\n",
      "- Availability   1      0.84 265.62 -14712.5\n",
      "- RankingsFood   1      0.85 265.64 -14712.2\n",
      "- ProvDensity    1      0.95 265.73 -14710.5\n",
      "- RankingsPCP    1      1.24 266.02 -14704.9\n",
      "- Education      1      2.96 267.75 -14672.5\n",
      "- WhitePop       1      3.44 268.23 -14663.5\n",
      "- BlackPop       1      4.39 269.17 -14645.8\n",
      "- HO             1     13.63 278.41 -14476.5\n",
      "- State          3    533.17 797.95  -9196.8\n"
     ]
    },
    {
     "data": {
      "text/plain": [
       "\n",
       "Call:\n",
       "lm(formula = log(EDCost.pmpm.no.out) ~ HealthyPop + ChronicPop + \n",
       "    State + Urbanicity + HO + PO + BlackPop + WhitePop + Education + \n",
       "    Accessibility + Availability + ProvDensity + RankingsPCP + \n",
       "    RankingsFood, data = dataAdult.no.out)\n",
       "\n",
       "Residuals:\n",
       "     Min       1Q   Median       3Q      Max \n",
       "-0.95424 -0.13902 -0.00161  0.13653  1.74621 \n",
       "\n",
       "Coefficients:\n",
       "                     Estimate Std. Error t value Pr(>|t|)    \n",
       "(Intercept)         1.9356344  0.0991296  19.526  < 2e-16 ***\n",
       "HealthyPop          0.0003798  0.0007824   0.485 0.627430    \n",
       "ChronicPop         -0.0010849  0.0020519  -0.529 0.597031    \n",
       "StateAR             0.9379139  0.0154403  60.745  < 2e-16 ***\n",
       "StateLA             0.8989533  0.0117596  76.444  < 2e-16 ***\n",
       "StateNC             1.4282364  0.0156224  91.422  < 2e-16 ***\n",
       "UrbanicitySuburban -0.0006647  0.0135555  -0.049 0.960895    \n",
       "UrbanicityUrban     0.0222961  0.0123314   1.808 0.070654 .  \n",
       "HO                 11.5397384  0.7193214  16.043  < 2e-16 ***\n",
       "PO                  0.1338608  0.0403440   3.318 0.000913 ***\n",
       "BlackPop            0.0050502  0.0005547   9.105  < 2e-16 ***\n",
       "WhitePop            0.0044178  0.0005478   8.064 9.14e-16 ***\n",
       "Education          -0.0017147  0.0002292  -7.480 8.72e-14 ***\n",
       "Accessibility      -0.0018658  0.0006940  -2.688 0.007205 ** \n",
       "Availability        0.0755848  0.0189930   3.980 7.00e-05 ***\n",
       "ProvDensity         0.0654339  0.0154862   4.225 2.43e-05 ***\n",
       "RankingsPCP         0.0007560  0.0001564   4.835 1.37e-06 ***\n",
       "RankingsFood        0.0162198  0.0040412   4.014 6.07e-05 ***\n",
       "---\n",
       "Signif. codes:  0 '***' 0.001 '**' 0.01 '*' 0.05 '.' 0.1 ' ' 1\n",
       "\n",
       "Residual standard error: 0.2301 on 5000 degrees of freedom\n",
       "Multiple R-squared:  0.8504,\tAdjusted R-squared:  0.8499 \n",
       "F-statistic:  1672 on 17 and 5000 DF,  p-value: < 2.2e-16\n"
      ]
     },
     "metadata": {},
     "output_type": "display_data"
    }
   ],
   "source": [
    "# Backward Stepwise Regression\n",
    "backward.model.no.out = step(full.no.out, scope=list(lower=minimum.no.out,\n",
    "                             upper=full.no.out), direction=\"backward\")\n",
    "summary(backward.model.no.out)"
   ]
  },
  {
   "cell_type": "code",
   "execution_count": 34,
   "metadata": {
    "vscode": {
     "languageId": "r"
    }
   },
   "outputs": [
    {
     "data": {
      "text/plain": [
       "\n",
       "Call:\n",
       "lm(formula = log(EDCost.pmpm) ~ HealthyPop + ChronicPop + State + \n",
       "    Urbanicity + HO + PO + BlackPop + WhitePop + Education + \n",
       "    Accessibility + Availability + ProvDensity + RankingsPCP + \n",
       "    RankingsFood, data = dataAdult)\n",
       "\n",
       "Residuals:\n",
       "    Min      1Q  Median      3Q     Max \n",
       "-2.1289 -0.1372 -0.0007  0.1376  1.7608 \n",
       "\n",
       "Coefficients:\n",
       "                     Estimate Std. Error t value Pr(>|t|)    \n",
       "(Intercept)         2.0271089  0.0995378  20.365  < 2e-16 ***\n",
       "HealthyPop         -0.0005092  0.0007837  -0.650 0.515917    \n",
       "ChronicPop         -0.0051250  0.0020252  -2.531 0.011418 *  \n",
       "StateAR             0.9324593  0.0155667  59.901  < 2e-16 ***\n",
       "StateLA             0.9003846  0.0118631  75.898  < 2e-16 ***\n",
       "StateNC             1.4268425  0.0157605  90.533  < 2e-16 ***\n",
       "UrbanicitySuburban -0.0017746  0.0136754  -0.130 0.896758    \n",
       "UrbanicityUrban     0.0226383  0.0124409   1.820 0.068870 .  \n",
       "HO                 12.0476486  0.7237072  16.647  < 2e-16 ***\n",
       "PO                  0.1232428  0.0406869   3.029 0.002466 ** \n",
       "BlackPop            0.0050790  0.0005596   9.076  < 2e-16 ***\n",
       "WhitePop            0.0046371  0.0005522   8.398  < 2e-16 ***\n",
       "Education          -0.0016689  0.0002312  -7.218 6.08e-13 ***\n",
       "Accessibility      -0.0019930  0.0007001  -2.847 0.004433 ** \n",
       "Availability        0.0756249  0.0191618   3.947 8.03e-05 ***\n",
       "ProvDensity         0.0605923  0.0156154   3.880 0.000106 ***\n",
       "RankingsPCP         0.0007885  0.0001577   5.000 5.94e-07 ***\n",
       "RankingsFood        0.0158764  0.0040770   3.894 9.98e-05 ***\n",
       "---\n",
       "Signif. codes:  0 '***' 0.001 '**' 0.01 '*' 0.05 '.' 0.1 ' ' 1\n",
       "\n",
       "Residual standard error: 0.2322 on 5001 degrees of freedom\n",
       "Multiple R-squared:  0.8483,\tAdjusted R-squared:  0.8478 \n",
       "F-statistic:  1645 on 17 and 5001 DF,  p-value: < 2.2e-16\n"
      ]
     },
     "metadata": {},
     "output_type": "display_data"
    }
   ],
   "source": [
    "summary(backward.model)"
   ]
  },
  {
   "cell_type": "markdown",
   "metadata": {},
   "source": [
    "There are no large differences when comparing the selected models using backward stepwise regression with versus without the outlier 909. The R-squares remain around 85%. The only difference is that ChronicPop becomes statistically insignificant without the outlier."
   ]
  },
  {
   "cell_type": "code",
   "execution_count": 35,
   "metadata": {
    "vscode": {
     "languageId": "r"
    }
   },
   "outputs": [],
   "source": [
    "reg.step.no.out = lm(log(EDCost.pmpm.no.out) ~ HealthyPop + ChronicPop + State + HO +\n",
    "                         Education + ProvDensity + RankingsPCP + Accessibility +\n",
    "                         Availability + PO + Urbanicity + BlackPop + WhitePop +\n",
    "                         RankingsFood, data=dataAdult.no.out)"
   ]
  },
  {
   "cell_type": "code",
   "execution_count": 36,
   "metadata": {
    "vscode": {
     "languageId": "r"
    }
   },
   "outputs": [
    {
     "data": {
      "text/plain": [
       "\n",
       "Call:\n",
       "lm(formula = log(EDCost.pmpm.no.out) ~ HealthyPop + ChronicPop + \n",
       "    State + HO + Education + ProvDensity + RankingsPCP + Accessibility + \n",
       "    Availability + PO + Urbanicity + BlackPop + WhitePop + RankingsFood, \n",
       "    data = dataAdult.no.out)\n",
       "\n",
       "Residuals:\n",
       "     Min       1Q   Median       3Q      Max \n",
       "-0.95424 -0.13902 -0.00161  0.13653  1.74621 \n",
       "\n",
       "Coefficients:\n",
       "                     Estimate Std. Error t value Pr(>|t|)    \n",
       "(Intercept)         1.9356344  0.0991296  19.526  < 2e-16 ***\n",
       "HealthyPop          0.0003798  0.0007824   0.485 0.627430    \n",
       "ChronicPop         -0.0010849  0.0020519  -0.529 0.597031    \n",
       "StateAR             0.9379139  0.0154403  60.745  < 2e-16 ***\n",
       "StateLA             0.8989533  0.0117596  76.444  < 2e-16 ***\n",
       "StateNC             1.4282364  0.0156224  91.422  < 2e-16 ***\n",
       "HO                 11.5397384  0.7193214  16.043  < 2e-16 ***\n",
       "Education          -0.0017147  0.0002292  -7.480 8.72e-14 ***\n",
       "ProvDensity         0.0654339  0.0154862   4.225 2.43e-05 ***\n",
       "RankingsPCP         0.0007560  0.0001564   4.835 1.37e-06 ***\n",
       "Accessibility      -0.0018658  0.0006940  -2.688 0.007205 ** \n",
       "Availability        0.0755848  0.0189930   3.980 7.00e-05 ***\n",
       "PO                  0.1338608  0.0403440   3.318 0.000913 ***\n",
       "UrbanicitySuburban -0.0006647  0.0135555  -0.049 0.960895    \n",
       "UrbanicityUrban     0.0222961  0.0123314   1.808 0.070654 .  \n",
       "BlackPop            0.0050502  0.0005547   9.105  < 2e-16 ***\n",
       "WhitePop            0.0044178  0.0005478   8.064 9.14e-16 ***\n",
       "RankingsFood        0.0162198  0.0040412   4.014 6.07e-05 ***\n",
       "---\n",
       "Signif. codes:  0 '***' 0.001 '**' 0.01 '*' 0.05 '.' 0.1 ' ' 1\n",
       "\n",
       "Residual standard error: 0.2301 on 5000 degrees of freedom\n",
       "Multiple R-squared:  0.8504,\tAdjusted R-squared:  0.8499 \n",
       "F-statistic:  1672 on 17 and 5000 DF,  p-value: < 2.2e-16\n"
      ]
     },
     "metadata": {},
     "output_type": "display_data"
    },
    {
     "data": {
      "text/plain": [
       "\n",
       "Call:\n",
       "lm(formula = log(EDCost.pmpm) ~ HealthyPop + ChronicPop + State + \n",
       "    Urbanicity + HO + PO + BlackPop + WhitePop + Education + \n",
       "    Accessibility + Availability + ProvDensity + RankingsPCP + \n",
       "    RankingsFood, data = dataAdult)\n",
       "\n",
       "Residuals:\n",
       "    Min      1Q  Median      3Q     Max \n",
       "-2.1289 -0.1372 -0.0007  0.1376  1.7608 \n",
       "\n",
       "Coefficients:\n",
       "                     Estimate Std. Error t value Pr(>|t|)    \n",
       "(Intercept)         2.0271089  0.0995378  20.365  < 2e-16 ***\n",
       "HealthyPop         -0.0005092  0.0007837  -0.650 0.515917    \n",
       "ChronicPop         -0.0051250  0.0020252  -2.531 0.011418 *  \n",
       "StateAR             0.9324593  0.0155667  59.901  < 2e-16 ***\n",
       "StateLA             0.9003846  0.0118631  75.898  < 2e-16 ***\n",
       "StateNC             1.4268425  0.0157605  90.533  < 2e-16 ***\n",
       "UrbanicitySuburban -0.0017746  0.0136754  -0.130 0.896758    \n",
       "UrbanicityUrban     0.0226383  0.0124409   1.820 0.068870 .  \n",
       "HO                 12.0476486  0.7237072  16.647  < 2e-16 ***\n",
       "PO                  0.1232428  0.0406869   3.029 0.002466 ** \n",
       "BlackPop            0.0050790  0.0005596   9.076  < 2e-16 ***\n",
       "WhitePop            0.0046371  0.0005522   8.398  < 2e-16 ***\n",
       "Education          -0.0016689  0.0002312  -7.218 6.08e-13 ***\n",
       "Accessibility      -0.0019930  0.0007001  -2.847 0.004433 ** \n",
       "Availability        0.0756249  0.0191618   3.947 8.03e-05 ***\n",
       "ProvDensity         0.0605923  0.0156154   3.880 0.000106 ***\n",
       "RankingsPCP         0.0007885  0.0001577   5.000 5.94e-07 ***\n",
       "RankingsFood        0.0158764  0.0040770   3.894 9.98e-05 ***\n",
       "---\n",
       "Signif. codes:  0 '***' 0.001 '**' 0.01 '*' 0.05 '.' 0.1 ' ' 1\n",
       "\n",
       "Residual standard error: 0.2322 on 5001 degrees of freedom\n",
       "Multiple R-squared:  0.8483,\tAdjusted R-squared:  0.8478 \n",
       "F-statistic:  1645 on 17 and 5001 DF,  p-value: < 2.2e-16\n"
      ]
     },
     "metadata": {},
     "output_type": "display_data"
    }
   ],
   "source": [
    "# NOT IN VIDEO\n",
    "summary(reg.step.no.out) # gives same results as summary(backward.model.no.out) above\n",
    "summary(reg.step) # gives same results as summary(backward.model) above\n",
    "# END NOT IN VIDEO"
   ]
  },
  {
   "cell_type": "markdown",
   "metadata": {},
   "source": [
    "The resulting regression models seem to present similar results."
   ]
  },
  {
   "cell_type": "markdown",
   "metadata": {},
   "source": [
    "### Prediction: Interventions"
   ]
  },
  {
   "cell_type": "markdown",
   "metadata": {},
   "source": [
    "Recall one of the policy questions that we started this analysis with: Does improvement in availability of primary care providers reduce the cost of ED care? Based on this analysis, we found that access, particularly the availability measure, is statistically significantly associated to the ED healthcare cost. "
   ]
  },
  {
   "cell_type": "code",
   "execution_count": 37,
   "metadata": {
    "vscode": {
     "languageId": "r"
    }
   },
   "outputs": [
    {
     "data": {
      "image/png": "[encoded data removed]",
      "text/plain": [
       "Plot with title \"Predicted vs. Fitted with Intervention\""
      ]
     },
     "metadata": {
      "image/png": {
       "height": 420,
       "width": 420
      }
     },
     "output_type": "display_data"
    }
   ],
   "source": [
    "newdata=dataAdult.no.out\n",
    "index = which(newdata$Availability >= 0.5)\n",
    "\n",
    "# Improve Availability to at most 0.5 congestion experienced by all communities\n",
    "newdata$Availability[index] = 0.5\n",
    "\n",
    "# Predict by changing Availability with all other predictors fixed\n",
    "EDCost.predict = predict(reg.step.no.out, newdata, interval=\"prediction\")[,1]\n",
    "\n",
    "# Compare predicted to fitted for those communities with intervention\n",
    "EDCost.diff.fitted = exp(fitted(reg.step.no.out)) - exp(EDCost.predict)\n",
    "hist(EDCost.diff.fitted[index], xlab=\"Difference in Expected versus Predicted ED Cost\", \n",
    "     main=\"Predicted vs. Fitted with Intervention\", col=\"orange\")\n"
   ]
  },
  {
   "cell_type": "markdown",
   "metadata": {},
   "source": [
    "To address this question, we will modify the values of the availability predictor while keeping all other variables unchanged. Specifically, for any values of availability greater than 0.5, we will replace them with 0.5. This adjustment simulates an intervention aimed at improving access to primary care in communities where availability is currently above 0.5, effectively reducing congestion and increasing provider availability. By making this change, we assume that these communities experience enhanced primary care access, leading to reduced wait times for appointments. After modifying the availability variable, we will create a new dataset where only this column is updated, while all other variables remain the same.\n",
    "\n",
    "The histogram shows that the difference is always positive and for some communities the difference in cost is almost $3 per member, per month. For other communities, the difference in the cost is smaller than $1 per member, per month. While this doesn't sound large, if we multiply the cost with 12 to get the cost difference per year, and we multiply that with the number of adults within each census tract, the difference in the cost could be quite large. "
   ]
  },
  {
   "cell_type": "code",
   "execution_count": 38,
   "metadata": {
    "vscode": {
     "languageId": "r"
    }
   },
   "outputs": [
    {
     "data": {
      "text/plain": [
       "    Min.  1st Qu.   Median     Mean  3rd Qu.     Max. \n",
       "-40.6579  -4.7203   0.1906   2.2265   6.8203  83.2608 "
      ]
     },
     "metadata": {},
     "output_type": "display_data"
    },
    {
     "data": {
      "image/png": "[encoded data removed]",
      "text/plain": [
       "Plot with title \"Predicted vs. Observed with Intervention\""
      ]
     },
     "metadata": {
      "image/png": {
       "height": 420,
       "width": 420
      }
     },
     "output_type": "display_data"
    }
   ],
   "source": [
    "# Compare predicted to observed for those communities with intervention\n",
    "EDCost.diff.observed = EDCost.pmpm[-909] - exp(EDCost.predict)\n",
    "summary(EDCost.diff.observed[index])\n",
    "hist(EDCost.diff.observed[index], xlab=\"Difference in Observed versus Predicted ED Cost\", \n",
    "     main=\"Predicted vs. Observed with Intervention\", col=\"blue\")"
   ]
  },
  {
   "cell_type": "markdown",
   "metadata": {},
   "source": [
    "We can see from the histogram in blue that we have both positive and negative differences; this is because the observed data are the expected response plus an error term; that error term makes some of the differences to be positive and others negative. We also see that there is a longer tail on the right, on the positive side, which says that there are more communities with a positive difference than with a negative difference."
   ]
  },
  {
   "cell_type": "code",
   "execution_count": 39,
   "metadata": {
    "vscode": {
     "languageId": "r"
    }
   },
   "outputs": [
    {
     "data": {
      "image/png": "[encoded data removed]",
      "text/plain": [
       "plot without title"
      ]
     },
     "metadata": {
      "image/png": {
       "height": 420,
       "width": 420
      }
     },
     "output_type": "display_data"
    }
   ],
   "source": [
    "boxplot(ED/PMPM~State, xlab=\"ED Utilization\")"
   ]
  },
  {
   "cell_type": "markdown",
   "metadata": {},
   "source": [
    "Alabama has the lowest utilization level per adult and North Carolina has the highest utilization"
   ]
  },
  {
   "cell_type": "code",
   "execution_count": 40,
   "metadata": {
    "vscode": {
     "languageId": "r"
    }
   },
   "outputs": [
    {
     "data": {
      "text/plain": [
       "\n",
       "Call:\n",
       "lm(formula = log(EDCost.pmpm) ~ ., data = data_less_urban)\n",
       "\n",
       "Residuals:\n",
       "     Min       1Q   Median       3Q      Max \n",
       "-2.14583 -0.13979  0.00072  0.13463  1.75797 \n",
       "\n",
       "Coefficients:\n",
       "                   Estimate Std. Error t value Pr(>|t|)    \n",
       "(Intercept)       2.202e+00  1.172e-01  18.781  < 2e-16 ***\n",
       "StateAR           9.210e-01  1.592e-02  57.845  < 2e-16 ***\n",
       "StateLA           9.091e-01  1.356e-02  67.038  < 2e-16 ***\n",
       "StateNC           1.419e+00  1.646e-02  86.200  < 2e-16 ***\n",
       "HO                1.163e+01  7.573e-01  15.363  < 2e-16 ***\n",
       "PO                1.377e-01  4.060e-02   3.392 0.000699 ***\n",
       "WhitePop          4.490e-03  5.791e-04   7.752 1.09e-14 ***\n",
       "BlackPop          4.977e-03  5.811e-04   8.564  < 2e-16 ***\n",
       "HealthyPop       -6.512e-04  8.072e-04  -0.807 0.419846    \n",
       "ChronicPop       -5.948e-03  2.047e-03  -2.905 0.003683 ** \n",
       "Unemployment      4.718e-04  7.376e-04   0.640 0.522451    \n",
       "Income           -2.166e-07  2.768e-07  -0.782 0.434023    \n",
       "Poverty          -3.536e-04  4.460e-04  -0.793 0.427926    \n",
       "Education        -1.488e-03  3.290e-04  -4.522 6.27e-06 ***\n",
       "Accessibility    -1.977e-03  7.061e-04  -2.800 0.005134 ** \n",
       "Availability      8.023e-02  1.976e-02   4.061 4.97e-05 ***\n",
       "RankingsPCP       7.894e-04  1.814e-04   4.352 1.37e-05 ***\n",
       "RankingsFood      6.045e-03  5.198e-03   1.163 0.244921    \n",
       "RankingsHousing  -4.880e-03  1.558e-03  -3.133 0.001742 ** \n",
       "RankingsExercise  4.684e-04  2.307e-04   2.030 0.042425 *  \n",
       "RankingsSocial   -1.073e-03  1.309e-03  -0.820 0.412332    \n",
       "ProvDensity       7.104e-02  1.487e-02   4.777 1.83e-06 ***\n",
       "---\n",
       "Signif. codes:  0 '***' 0.001 '**' 0.01 '*' 0.05 '.' 0.1 ' ' 1\n",
       "\n",
       "Residual standard error: 0.2321 on 4997 degrees of freedom\n",
       "Multiple R-squared:  0.8485,\tAdjusted R-squared:  0.8479 \n",
       "F-statistic:  1333 on 21 and 4997 DF,  p-value: < 2.2e-16\n"
      ]
     },
     "metadata": {},
     "output_type": "display_data"
    }
   ],
   "source": [
    "# create a model without Urbanicity factors\n",
    "data_less_urban = dataAdult.red[, -c(12)]\n",
    "model_less_urban = lm(log(EDCost.pmpm) ~ ., \n",
    "                      data_less_urban)\n",
    "summary(model_less_urban)"
   ]
  },
  {
   "cell_type": "markdown",
   "metadata": {},
   "source": [
    "We explore the impact of urbanicity factor by creating the model without urbanicity and then perform the F-test between full model and model without urbanicity."
   ]
  },
  {
   "cell_type": "code",
   "execution_count": 41,
   "metadata": {
    "vscode": {
     "languageId": "r"
    }
   },
   "outputs": [
    {
     "data": {
      "text/html": [
       "<table class=\"dataframe\">\n",
       "<caption>A anova: 2 × 6</caption>\n",
       "<thead>\n",
       "\t<tr><th></th><th scope=col>Res.Df</th><th scope=col>RSS</th><th scope=col>Df</th><th scope=col>Sum of Sq</th><th scope=col>F</th><th scope=col>Pr(&gt;F)</th></tr>\n",
       "\t<tr><th></th><th scope=col>&lt;dbl&gt;</th><th scope=col>&lt;dbl&gt;</th><th scope=col>&lt;dbl&gt;</th><th scope=col>&lt;dbl&gt;</th><th scope=col>&lt;dbl&gt;</th><th scope=col>&lt;dbl&gt;</th></tr>\n",
       "</thead>\n",
       "<tbody>\n",
       "\t<tr><th scope=row>1</th><td>4995</td><td>268.9835</td><td>NA</td><td>        NA</td><td>      NA</td><td>      NA</td></tr>\n",
       "\t<tr><th scope=row>2</th><td>4997</td><td>269.2295</td><td>-2</td><td>-0.2459748</td><td>2.283865</td><td>0.101996</td></tr>\n",
       "</tbody>\n",
       "</table>\n"
      ],
      "text/latex": [
       "A anova: 2 × 6\n",
       "\\begin{tabular}{r|llllll}\n",
       "  & Res.Df & RSS & Df & Sum of Sq & F & Pr(>F)\\\\\n",
       "  & <dbl> & <dbl> & <dbl> & <dbl> & <dbl> & <dbl>\\\\\n",
       "\\hline\n",
       "\t1 & 4995 & 268.9835 & NA &         NA &       NA &       NA\\\\\n",
       "\t2 & 4997 & 269.2295 & -2 & -0.2459748 & 2.283865 & 0.101996\\\\\n",
       "\\end{tabular}\n"
      ],
      "text/markdown": [
       "\n",
       "A anova: 2 × 6\n",
       "\n",
       "| <!--/--> | Res.Df &lt;dbl&gt; | RSS &lt;dbl&gt; | Df &lt;dbl&gt; | Sum of Sq &lt;dbl&gt; | F &lt;dbl&gt; | Pr(&gt;F) &lt;dbl&gt; |\n",
       "|---|---|---|---|---|---|---|\n",
       "| 1 | 4995 | 268.9835 | NA |         NA |       NA |       NA |\n",
       "| 2 | 4997 | 269.2295 | -2 | -0.2459748 | 2.283865 | 0.101996 |\n",
       "\n"
      ],
      "text/plain": [
       "  Res.Df RSS      Df Sum of Sq  F        Pr(>F)  \n",
       "1 4995   268.9835 NA         NA       NA       NA\n",
       "2 4997   269.2295 -2 -0.2459748 2.283865 0.101996"
      ]
     },
     "metadata": {},
     "output_type": "display_data"
    }
   ],
   "source": [
    "# conduct f test of two models: full model and model without urbanicity factors\n",
    "anova(fullmodel,\n",
    "      model_less_urban)"
   ]
  },
  {
   "cell_type": "markdown",
   "metadata": {},
   "source": [
    "We fail to reject the null hypothesis and cannot show that the model including \n",
    "Urbanicity has explanatory power greater than the model without."
   ]
  },
  {
   "cell_type": "code",
   "execution_count": 42,
   "metadata": {
    "vscode": {
     "languageId": "r"
    }
   },
   "outputs": [
    {
     "data": {
      "text/plain": [
       "\n",
       "Call:\n",
       "lm(formula = log(EDCost.pmpm) ~ ., data = dataAdult.red)\n",
       "\n",
       "Residuals:\n",
       "     Min       1Q   Median       3Q      Max \n",
       "-2.14286 -0.13782  0.00008  0.13464  1.75586 \n",
       "\n",
       "Coefficients:\n",
       "                     Estimate Std. Error t value Pr(>|t|)    \n",
       "(Intercept)         2.208e+00  1.175e-01  18.788  < 2e-16 ***\n",
       "StateAR             9.235e-01  1.610e-02  57.353  < 2e-16 ***\n",
       "StateLA             9.081e-01  1.358e-02  66.853  < 2e-16 ***\n",
       "StateNC             1.418e+00  1.650e-02  85.909  < 2e-16 ***\n",
       "HO                  1.168e+01  7.587e-01  15.401  < 2e-16 ***\n",
       "PO                  1.378e-01  4.114e-02   3.350 0.000815 ***\n",
       "WhitePop            4.416e-03  5.800e-04   7.614 3.16e-14 ***\n",
       "BlackPop            4.894e-03  5.824e-04   8.403  < 2e-16 ***\n",
       "HealthyPop         -9.044e-04  8.160e-04  -1.108 0.267751    \n",
       "ChronicPop         -5.949e-03  2.052e-03  -2.899 0.003760 ** \n",
       "Unemployment        4.390e-04  7.377e-04   0.595 0.551797    \n",
       "Income             -2.556e-07  2.774e-07  -0.922 0.356769    \n",
       "Poverty            -3.306e-04  4.460e-04  -0.741 0.458529    \n",
       "Education          -1.447e-03  3.296e-04  -4.390 1.16e-05 ***\n",
       "UrbanicitySuburban -4.565e-04  1.369e-02  -0.033 0.973406    \n",
       "UrbanicityUrban     2.067e-02  1.269e-02   1.629 0.103356    \n",
       "Accessibility      -1.965e-03  7.094e-04  -2.770 0.005623 ** \n",
       "Availability        8.037e-02  1.975e-02   4.068 4.81e-05 ***\n",
       "RankingsPCP         7.596e-04  1.819e-04   4.175 3.03e-05 ***\n",
       "RankingsFood        6.586e-03  5.203e-03   1.266 0.205642    \n",
       "RankingsHousing    -4.642e-03  1.562e-03  -2.973 0.002967 ** \n",
       "RankingsExercise    3.993e-04  2.332e-04   1.712 0.086907 .  \n",
       "RankingsSocial     -3.895e-04  1.347e-03  -0.289 0.772497    \n",
       "ProvDensity         6.042e-02  1.573e-02   3.841 0.000124 ***\n",
       "---\n",
       "Signif. codes:  0 '***' 0.001 '**' 0.01 '*' 0.05 '.' 0.1 ' ' 1\n",
       "\n",
       "Residual standard error: 0.2321 on 4995 degrees of freedom\n",
       "Multiple R-squared:  0.8486,\tAdjusted R-squared:  0.8479 \n",
       "F-statistic:  1218 on 23 and 4995 DF,  p-value: < 2.2e-16\n"
      ]
     },
     "metadata": {},
     "output_type": "display_data"
    }
   ],
   "source": [
    "# look at the model to see which predictors are not statistically significant\n",
    "# at *alpha* = 0.05\n",
    "summary(fullmodel)"
   ]
  },
  {
   "cell_type": "code",
   "execution_count": 43,
   "metadata": {
    "vscode": {
     "languageId": "r"
    }
   },
   "outputs": [
    {
     "data": {
      "text/html": [
       "<style>\n",
       ".dl-inline {width: auto; margin:0; padding: 0}\n",
       ".dl-inline>dt, .dl-inline>dd {float: none; width: auto; display: inline-block}\n",
       ".dl-inline>dt::after {content: \":\\0020\"; padding-right: .5ex}\n",
       ".dl-inline>dt:not(:first-of-type) {padding-left: .5ex}\n",
       "</style><dl class=dl-inline><dt>HealthyPop</dt><dd>0.267750915144919</dd><dt>Unemployment</dt><dd>0.551797063908289</dd><dt>Income</dt><dd>0.356769050877547</dd><dt>Poverty</dt><dd>0.458528585976281</dd><dt>UrbanicitySuburban</dt><dd>0.973406052277966</dd><dt>UrbanicityUrban</dt><dd>0.103355628366737</dd><dt>RankingsFood</dt><dd>0.205642471153177</dd><dt>RankingsExercise</dt><dd>0.086906510827568</dd><dt>RankingsSocial</dt><dd>0.772497326755285</dd></dl>\n"
      ],
      "text/latex": [
       "\\begin{description*}\n",
       "\\item[HealthyPop] 0.267750915144919\n",
       "\\item[Unemployment] 0.551797063908289\n",
       "\\item[Income] 0.356769050877547\n",
       "\\item[Poverty] 0.458528585976281\n",
       "\\item[UrbanicitySuburban] 0.973406052277966\n",
       "\\item[UrbanicityUrban] 0.103355628366737\n",
       "\\item[RankingsFood] 0.205642471153177\n",
       "\\item[RankingsExercise] 0.086906510827568\n",
       "\\item[RankingsSocial] 0.772497326755285\n",
       "\\end{description*}\n"
      ],
      "text/markdown": [
       "HealthyPop\n",
       ":   0.267750915144919Unemployment\n",
       ":   0.551797063908289Income\n",
       ":   0.356769050877547Poverty\n",
       ":   0.458528585976281UrbanicitySuburban\n",
       ":   0.973406052277966UrbanicityUrban\n",
       ":   0.103355628366737RankingsFood\n",
       ":   0.205642471153177RankingsExercise\n",
       ":   0.086906510827568RankingsSocial\n",
       ":   0.772497326755285\n",
       "\n"
      ],
      "text/plain": [
       "        HealthyPop       Unemployment             Income            Poverty \n",
       "        0.26775092         0.55179706         0.35676905         0.45852859 \n",
       "UrbanicitySuburban    UrbanicityUrban       RankingsFood   RankingsExercise \n",
       "        0.97340605         0.10335563         0.20564247         0.08690651 \n",
       "    RankingsSocial \n",
       "        0.77249733 "
      ]
     },
     "metadata": {},
     "output_type": "display_data"
    }
   ],
   "source": [
    "# find which predictors are not statistically significant at *alpha* = 0.05\n",
    "# and their corresponding p-values\n",
    "summary(fullmodel)$coefficients[c(which(summary(fullmodel)$coefficients[ , 4] > 0.05)) , 4]"
   ]
  },
  {
   "cell_type": "markdown",
   "metadata": {},
   "source": [
    "We list the coefficients which are not statistially significant at level of 0.05 according to their p-values."
   ]
  },
  {
   "cell_type": "code",
   "execution_count": 44,
   "metadata": {
    "vscode": {
     "languageId": "r"
    }
   },
   "outputs": [
    {
     "data": {
      "text/html": [
       "<style>\n",
       ".list-inline {list-style: none; margin:0; padding: 0}\n",
       ".list-inline>li {display: inline-block}\n",
       ".list-inline>li:not(:last-child)::after {content: \"\\00b7\"; padding: 0 .5ex}\n",
       "</style>\n",
       "<ol class=list-inline><li>'GEOID'</li><li>'State'</li><li>'EDCost'</li><li>'PMPM'</li><li>'ED'</li><li>'HO'</li><li>'PO'</li><li>'WhitePop'</li><li>'BlackPop'</li><li>'OtherPop'</li><li>'HealthyPop'</li><li>'ChronicPop'</li><li>'ComplexPop'</li><li>'Unemployment'</li><li>'Income'</li><li>'Poverty'</li><li>'Education'</li><li>'Urbanicity'</li><li>'Accessibility'</li><li>'Availability'</li><li>'RankingsPCP'</li><li>'RankingsFood'</li><li>'RankingsHousing'</li><li>'RankingsExercise'</li><li>'RankingsSocial'</li><li>'ProvDensity'</li></ol>\n"
      ],
      "text/latex": [
       "\\begin{enumerate*}\n",
       "\\item 'GEOID'\n",
       "\\item 'State'\n",
       "\\item 'EDCost'\n",
       "\\item 'PMPM'\n",
       "\\item 'ED'\n",
       "\\item 'HO'\n",
       "\\item 'PO'\n",
       "\\item 'WhitePop'\n",
       "\\item 'BlackPop'\n",
       "\\item 'OtherPop'\n",
       "\\item 'HealthyPop'\n",
       "\\item 'ChronicPop'\n",
       "\\item 'ComplexPop'\n",
       "\\item 'Unemployment'\n",
       "\\item 'Income'\n",
       "\\item 'Poverty'\n",
       "\\item 'Education'\n",
       "\\item 'Urbanicity'\n",
       "\\item 'Accessibility'\n",
       "\\item 'Availability'\n",
       "\\item 'RankingsPCP'\n",
       "\\item 'RankingsFood'\n",
       "\\item 'RankingsHousing'\n",
       "\\item 'RankingsExercise'\n",
       "\\item 'RankingsSocial'\n",
       "\\item 'ProvDensity'\n",
       "\\end{enumerate*}\n"
      ],
      "text/markdown": [
       "1. 'GEOID'\n",
       "2. 'State'\n",
       "3. 'EDCost'\n",
       "4. 'PMPM'\n",
       "5. 'ED'\n",
       "6. 'HO'\n",
       "7. 'PO'\n",
       "8. 'WhitePop'\n",
       "9. 'BlackPop'\n",
       "10. 'OtherPop'\n",
       "11. 'HealthyPop'\n",
       "12. 'ChronicPop'\n",
       "13. 'ComplexPop'\n",
       "14. 'Unemployment'\n",
       "15. 'Income'\n",
       "16. 'Poverty'\n",
       "17. 'Education'\n",
       "18. 'Urbanicity'\n",
       "19. 'Accessibility'\n",
       "20. 'Availability'\n",
       "21. 'RankingsPCP'\n",
       "22. 'RankingsFood'\n",
       "23. 'RankingsHousing'\n",
       "24. 'RankingsExercise'\n",
       "25. 'RankingsSocial'\n",
       "26. 'ProvDensity'\n",
       "\n",
       "\n"
      ],
      "text/plain": [
       " [1] \"GEOID\"            \"State\"            \"EDCost\"           \"PMPM\"            \n",
       " [5] \"ED\"               \"HO\"               \"PO\"               \"WhitePop\"        \n",
       " [9] \"BlackPop\"         \"OtherPop\"         \"HealthyPop\"       \"ChronicPop\"      \n",
       "[13] \"ComplexPop\"       \"Unemployment\"     \"Income\"           \"Poverty\"         \n",
       "[17] \"Education\"        \"Urbanicity\"       \"Accessibility\"    \"Availability\"    \n",
       "[21] \"RankingsPCP\"      \"RankingsFood\"     \"RankingsHousing\"  \"RankingsExercise\"\n",
       "[25] \"RankingsSocial\"   \"ProvDensity\"     "
      ]
     },
     "metadata": {},
     "output_type": "display_data"
    }
   ],
   "source": [
    "colnames(dataAdult)"
   ]
  },
  {
   "cell_type": "code",
   "execution_count": 45,
   "metadata": {
    "vscode": {
     "languageId": "r"
    }
   },
   "outputs": [
    {
     "data": {
      "text/plain": [
       "\n",
       "Call:\n",
       "lm(formula = log(EDCost.pmpm) ~ ., data = data_less_not_stat_sig)\n",
       "\n",
       "Residuals:\n",
       "     Min       1Q   Median       3Q      Max \n",
       "-2.14815 -0.14199  0.00184  0.13583  1.78326 \n",
       "\n",
       "Coefficients:\n",
       "                  Estimate Std. Error t value Pr(>|t|)    \n",
       "(Intercept)      2.2323590  0.0625824  35.671  < 2e-16 ***\n",
       "StateAR          0.9248715  0.0150227  61.565  < 2e-16 ***\n",
       "StateLA          0.9236459  0.0120610  76.581  < 2e-16 ***\n",
       "StateNC          1.4330007  0.0146808  97.610  < 2e-16 ***\n",
       "HO              11.3323282  0.7371766  15.373  < 2e-16 ***\n",
       "PO               0.1282729  0.0394940   3.248 0.001170 ** \n",
       "WhitePop         0.0044401  0.0005299   8.379  < 2e-16 ***\n",
       "BlackPop         0.0047963  0.0005181   9.257  < 2e-16 ***\n",
       "ChronicPop      -0.0059973  0.0017203  -3.486 0.000494 ***\n",
       "Education       -0.0015695  0.0002296  -6.835 9.19e-12 ***\n",
       "Accessibility   -0.0019221  0.0006957  -2.763 0.005749 ** \n",
       "Availability     0.0691197  0.0192023   3.600 0.000322 ***\n",
       "RankingsPCP      0.0009065  0.0001604   5.653 1.67e-08 ***\n",
       "RankingsHousing -0.0053849  0.0012204  -4.412 1.04e-05 ***\n",
       "ProvDensity      0.0727039  0.0146854   4.951 7.64e-07 ***\n",
       "---\n",
       "Signif. codes:  0 '***' 0.001 '**' 0.01 '*' 0.05 '.' 0.1 ' ' 1\n",
       "\n",
       "Residual standard error: 0.2322 on 5004 degrees of freedom\n",
       "Multiple R-squared:  0.8482,\tAdjusted R-squared:  0.8478 \n",
       "F-statistic:  1997 on 14 and 5004 DF,  p-value: < 2.2e-16\n"
      ]
     },
     "metadata": {},
     "output_type": "display_data"
    }
   ],
   "source": [
    "data_less_not_stat_sig = dataAdult[, -c(1, 3, 4, 5, 10, 11, 13, 14, 15, 16, 18, 22, 24,25)] \n",
    "model_less_not_stat_sig = lm(log(EDCost.pmpm) ~ ., \n",
    "                             data = data_less_not_stat_sig)\n",
    "summary(model_less_not_stat_sig)"
   ]
  },
  {
   "cell_type": "code",
   "execution_count": 46,
   "metadata": {
    "vscode": {
     "languageId": "r"
    }
   },
   "outputs": [],
   "source": [
    "\n",
    "# data_less_not_stat_sig = dataAdult[, -c(1, 3, 4, 5, 6, 8, 9, 10, 12, 13, 16, 18, 19)] \n",
    "# model_less_not_stat_sig = lm(log(EDCost.pmpm) ~ ., \n",
    "#                              data = data_less_not_stat_sig)\n",
    "# summary(model_less_not_stat_sig)"
   ]
  },
  {
   "cell_type": "markdown",
   "metadata": {},
   "source": [
    "Here we create a new model excluding the above predictors that are not statistically significant\n",
    "and also exclude GEOID, scaling factor PMPM, and confounding factors EDCost and ED. We exclude OtherPop & ComplexPop because of linear dependence."
   ]
  },
  {
   "cell_type": "code",
   "execution_count": 47,
   "metadata": {
    "vscode": {
     "languageId": "r"
    }
   },
   "outputs": [
    {
     "name": "stderr",
     "output_type": "stream",
     "text": [
      "Loading required package: CombMSC\n",
      "\n",
      "Installing package into 'C:/Users/david/AppData/Local/R/win-library/4.3'\n",
      "(as 'lib' is unspecified)\n",
      "\n",
      "\n",
      "Attaching package: 'CombMSC'\n",
      "\n",
      "\n",
      "The following object is masked from 'package:car':\n",
      "\n",
      "    subsets\n",
      "\n",
      "\n",
      "The following object is masked from 'package:stats':\n",
      "\n",
      "    BIC\n",
      "\n",
      "\n"
     ]
    }
   ],
   "source": [
    "if (!require(\"CombMSC\", character.only=TRUE)) {\n",
    "packageurl <- \"https://cran.r-project.org/src/contrib/Archive/CombMSC/CombMSC_1.4.2.1.tar.gz\"\n",
    "install.packages(packageurl, repos=NULL, type=\"source\")\n",
    "library(CombMSC)\n",
    "}\n"
   ]
  },
  {
   "cell_type": "code",
   "execution_count": 48,
   "metadata": {
    "vscode": {
     "languageId": "r"
    }
   },
   "outputs": [
    {
     "data": {
      "text/html": [
       "<table class=\"dataframe\">\n",
       "<caption>A matrix: 4 × 2</caption>\n",
       "<thead>\n",
       "\t<tr><th></th><th scope=col>full_model_stats</th><th scope=col>reduced_model_stats</th></tr>\n",
       "\t<tr><th></th><th scope=col>&lt;dbl&gt;</th><th scope=col>&lt;dbl[,1]&gt;</th><th scope=col>&lt;dbl&gt;</th><th scope=col>&lt;dbl&gt;</th><th scope=col>&lt;dbl&gt;</th><th scope=col>&lt;dbl[,1]&gt;</th><th scope=col>&lt;dbl&gt;</th><th scope=col>&lt;dbl&gt;</th></tr>\n",
       "</thead>\n",
       "<tbody>\n",
       "\t<tr><th scope=row>Adj R2</th><td>0.8479487</td><td>0.8477929</td></tr>\n",
       "\t<tr><th scope=row>Mallow</th><td>24</td><td>15</td></tr>\n",
       "\t<tr><th scope=row>AIC</th><td>-393.9755</td><td>-397.7979</td></tr>\n",
       "\t<tr><th scope=row>BIC</th><td>-230.9508</td><td>-293.4622</td></tr>\n",
       "</tbody>\n",
       "</table>\n"
      ],
      "text/latex": [
       "A matrix: 4 × 2\n",
       "\\begin{tabular}{r|ll}\n",
       "  & full\\_model\\_stats & reduced\\_model\\_stats\\\\\n",
       "  & <dbl> & <dbl{[},1{]}> & <dbl> & <dbl> & <dbl> & <dbl{[},1{]}> & <dbl> & <dbl>\\\\\n",
       "\\hline\n",
       "\tAdj R2 & 0.8479487 & 0.8477929\\\\\n",
       "\tMallow & 24 & 15\\\\\n",
       "\tAIC & -393.9755 & -397.7979\\\\\n",
       "\tBIC & -230.9508 & -293.4622\\\\\n",
       "\\end{tabular}\n"
      ],
      "text/markdown": [
       "\n",
       "A matrix: 4 × 2\n",
       "\n",
       "| <!--/--> | full_model_stats &lt;dbl&gt; | reduced_model_stats &lt;dbl[,1]&gt; | full_model_stats &lt;dbl&gt; | reduced_model_stats &lt;dbl&gt; | full_model_stats &lt;dbl&gt; | reduced_model_stats &lt;dbl[,1]&gt; | full_model_stats &lt;dbl&gt; | reduced_model_stats &lt;dbl&gt; |\n",
       "|---|---|---|\n",
       "| Adj R2 | 0.8479487 | 0.8477929 |\n",
       "| Mallow | 24 | 15 |\n",
       "| AIC | -393.9755 | -397.7979 |\n",
       "| BIC | -230.9508 | -293.4622 |\n",
       "\n"
      ],
      "text/plain": [
       "       full_model_stats reduced_model_stats\n",
       "Adj R2 0.8479487        0.8477929          \n",
       "Mallow 24               15                 \n",
       "AIC    -393.9755        -397.7979          \n",
       "BIC    -230.9508        -293.4622          "
      ]
     },
     "metadata": {},
     "output_type": "display_data"
    }
   ],
   "source": [
    "# compare full model to model after remove predictors that were not statistically significant\n",
    "\n",
    "set.seed(100)\n",
    "n = nrow(dataAdult.red)\n",
    "\n",
    "full_model_stats = list(\"Adj R2\" = summary(fullmodel)$adj.r.squared, \n",
    "                \"Mallow\" = Cp(fullmodel, S2=summary(fullmodel)$sigma^2), \n",
    "                \"AIC\" = AIC(fullmodel, k=2),\n",
    "                \"BIC\" = AIC(fullmodel, k=log(n)))\n",
    "\n",
    "reduced_model_stats = list(\"Adj R2\" = summary(model_less_not_stat_sig)$adj.r.squared, \n",
    "                \"Mallow\" = Cp(model_less_not_stat_sig,\n",
    "                              S2=summary(model_less_not_stat_sig)$sigma^2), \n",
    "                \"AIC\" = AIC(model_less_not_stat_sig, k=2),\n",
    "                \"BIC\" = AIC(model_less_not_stat_sig, k=log(n)))\n",
    "\n",
    "model_compare = data.frame\n",
    "model_compare = cbind(full_model_stats,\n",
    "                      reduced_model_stats)\n",
    "\n",
    "model_compare"
   ]
  },
  {
   "cell_type": "markdown",
   "metadata": {},
   "source": [
    "The full model is the preferred model as it has a higher adjusted R-squared value,\n",
    "lower AIC value, and lower BIC value."
   ]
  },
  {
   "cell_type": "markdown",
   "metadata": {},
   "source": [
    "Below, we look to find a relationship that explains the clusters in the plot of residuals\n",
    "vs fitted values.  As a reminder, here is the plot of residuals vs fitted values:"
   ]
  },
  {
   "cell_type": "code",
   "execution_count": 49,
   "metadata": {
    "vscode": {
     "languageId": "r"
    }
   },
   "outputs": [
    {
     "data": {
      "image/png": "[encoded data removed]",
      "text/plain": [
       "plot without title"
      ]
     },
     "metadata": {
      "image/png": {
       "height": 420,
       "width": 420
      }
     },
     "output_type": "display_data"
    }
   ],
   "source": [
    "# examining the three clusters in the data\n",
    "plot(full.fitted, full.resid, xlab=\"Fitted Values\", ylab=\"Residuals\")"
   ]
  },
  {
   "cell_type": "markdown",
   "metadata": {},
   "source": [
    "In the code below, we assign colors to the different states found in our data\n",
    "and plot the results which clearly shows that our data is clustered by state."
   ]
  },
  {
   "cell_type": "code",
   "execution_count": 50,
   "metadata": {
    "vscode": {
     "languageId": "r"
    }
   },
   "outputs": [],
   "source": [
    "# create a data frame of the fitted and residual values\n",
    "residual_df = data.frame\n",
    "residual_df = cbind(full.fitted, \n",
    "                    full.resid,\n",
    "                    dataAdult.red$State)\n",
    "residual_df = data.frame(residual_df)\n",
    "\n",
    "# set the column names\n",
    "colnames(residual_df) = c('fitted',\n",
    "                          'residual',\n",
    "                          'state')\n",
    "\n",
    "# assign colors based on the state\n",
    "residual_df = residual_df %>% \n",
    "  mutate(color = case_when(residual_df$state == 'LA' ~ 'orange',\n",
    "                           residual_df$state == 'AR' ~ 'blueviolet',\n",
    "                           residual_df$state == 'AL' ~ 'green',\n",
    "                           residual_df$state == 'NC' ~ 'cyan',\n",
    "                           TRUE ~ \"ERROR\"))"
   ]
  },
  {
   "cell_type": "code",
   "execution_count": 51,
   "metadata": {
    "vscode": {
     "languageId": "r"
    }
   },
   "outputs": [
    {
     "data": {
      "image/png": "[encoded data removed]",
      "text/plain": [
       "plot without title"
      ]
     },
     "metadata": {
      "image/png": {
       "height": 420,
       "width": 420
      }
     },
     "output_type": "display_data"
    }
   ],
   "source": [
    "# plot the same graph with colors added\n",
    "plot(residual_df$fitted,\n",
    "     residual_df$residual,\n",
    "     col = residual_df$color,\n",
    "     ylab = 'Residuals',\n",
    "     xlab = 'Fitted Values')"
   ]
  },
  {
   "cell_type": "markdown",
   "metadata": {},
   "source": [
    "Below, we implement group lasso regression with groupings based on state."
   ]
  },
  {
   "cell_type": "code",
   "execution_count": 52,
   "metadata": {
    "vscode": {
     "languageId": "r"
    }
   },
   "outputs": [],
   "source": [
    "# create dataframe including the outcome\n",
    "group_df_1 = dataAdult[,-c(1,3,4,5)]\n",
    "group_df_1$EDCost.pmpm = dataAdult$EDCost/dataAdult$PMPM\n",
    "\n",
    "# assign grouping numbers based on state\n",
    "group_df_1 = group_df_1 %>% \n",
    "  mutate(State_s = case_when(group_df_1$State == 'LA' ~ 1,\n",
    "                           group_df_1$State == 'AR' ~ 2,\n",
    "                           group_df_1$State == 'AL' ~ 3,\n",
    "                           group_df_1$State == 'NC' ~ 4,\n",
    "                           TRUE ~ 5))\n",
    "\n",
    "group_df_1 = group_df_1 %>% \n",
    "  mutate(Urbanicity_grp = case_when(group_df_1$Urbanicity == 'Urban' ~ 1,\n",
    "                             group_df_1$Urbanicity == 'Suburban' ~ 2,\n",
    "                             group_df_1$Urbanicity == 'Rural' ~ 3,\n",
    "                             TRUE ~ 4))\n",
    "\n",
    "#Group index for x variables\n",
    "group_DA = c(1,2,3,3,3,4,4,4,5,5,5,5,6,7,8,9,10,11,12,13,14,15)\n"
   ]
  },
  {
   "cell_type": "code",
   "execution_count": 53,
   "metadata": {
    "vscode": {
     "languageId": "r"
    }
   },
   "outputs": [
    {
     "data": {
      "text/html": [
       "<style>\n",
       ".list-inline {list-style: none; margin:0; padding: 0}\n",
       ".list-inline>li {display: inline-block}\n",
       ".list-inline>li:not(:last-child)::after {content: \"\\00b7\"; padding: 0 .5ex}\n",
       "</style>\n",
       "<ol class=list-inline><li>'State'</li><li>'HO'</li><li>'PO'</li><li>'WhitePop'</li><li>'BlackPop'</li><li>'OtherPop'</li><li>'HealthyPop'</li><li>'ChronicPop'</li><li>'ComplexPop'</li><li>'Unemployment'</li><li>'Income'</li><li>'Poverty'</li><li>'Education'</li><li>'Urbanicity'</li><li>'Accessibility'</li><li>'Availability'</li><li>'RankingsPCP'</li><li>'RankingsFood'</li><li>'RankingsHousing'</li><li>'RankingsExercise'</li><li>'RankingsSocial'</li><li>'ProvDensity'</li><li>'EDCost.pmpm'</li><li>'State_s'</li><li>'Urbanicity_grp'</li></ol>\n"
      ],
      "text/latex": [
       "\\begin{enumerate*}\n",
       "\\item 'State'\n",
       "\\item 'HO'\n",
       "\\item 'PO'\n",
       "\\item 'WhitePop'\n",
       "\\item 'BlackPop'\n",
       "\\item 'OtherPop'\n",
       "\\item 'HealthyPop'\n",
       "\\item 'ChronicPop'\n",
       "\\item 'ComplexPop'\n",
       "\\item 'Unemployment'\n",
       "\\item 'Income'\n",
       "\\item 'Poverty'\n",
       "\\item 'Education'\n",
       "\\item 'Urbanicity'\n",
       "\\item 'Accessibility'\n",
       "\\item 'Availability'\n",
       "\\item 'RankingsPCP'\n",
       "\\item 'RankingsFood'\n",
       "\\item 'RankingsHousing'\n",
       "\\item 'RankingsExercise'\n",
       "\\item 'RankingsSocial'\n",
       "\\item 'ProvDensity'\n",
       "\\item 'EDCost.pmpm'\n",
       "\\item 'State\\_s'\n",
       "\\item 'Urbanicity\\_grp'\n",
       "\\end{enumerate*}\n"
      ],
      "text/markdown": [
       "1. 'State'\n",
       "2. 'HO'\n",
       "3. 'PO'\n",
       "4. 'WhitePop'\n",
       "5. 'BlackPop'\n",
       "6. 'OtherPop'\n",
       "7. 'HealthyPop'\n",
       "8. 'ChronicPop'\n",
       "9. 'ComplexPop'\n",
       "10. 'Unemployment'\n",
       "11. 'Income'\n",
       "12. 'Poverty'\n",
       "13. 'Education'\n",
       "14. 'Urbanicity'\n",
       "15. 'Accessibility'\n",
       "16. 'Availability'\n",
       "17. 'RankingsPCP'\n",
       "18. 'RankingsFood'\n",
       "19. 'RankingsHousing'\n",
       "20. 'RankingsExercise'\n",
       "21. 'RankingsSocial'\n",
       "22. 'ProvDensity'\n",
       "23. 'EDCost.pmpm'\n",
       "24. 'State_s'\n",
       "25. 'Urbanicity_grp'\n",
       "\n",
       "\n"
      ],
      "text/plain": [
       " [1] \"State\"            \"HO\"               \"PO\"               \"WhitePop\"        \n",
       " [5] \"BlackPop\"         \"OtherPop\"         \"HealthyPop\"       \"ChronicPop\"      \n",
       " [9] \"ComplexPop\"       \"Unemployment\"     \"Income\"           \"Poverty\"         \n",
       "[13] \"Education\"        \"Urbanicity\"       \"Accessibility\"    \"Availability\"    \n",
       "[17] \"RankingsPCP\"      \"RankingsFood\"     \"RankingsHousing\"  \"RankingsExercise\"\n",
       "[21] \"RankingsSocial\"   \"ProvDensity\"      \"EDCost.pmpm\"      \"State_s\"         \n",
       "[25] \"Urbanicity_grp\"  "
      ]
     },
     "metadata": {},
     "output_type": "display_data"
    }
   ],
   "source": [
    "colnames(group_df_1)"
   ]
  },
  {
   "cell_type": "code",
   "execution_count": 54,
   "metadata": {
    "vscode": {
     "languageId": "r"
    }
   },
   "outputs": [
    {
     "data": {
      "text/html": [
       "25"
      ],
      "text/latex": [
       "25"
      ],
      "text/markdown": [
       "25"
      ],
      "text/plain": [
       "[1] 25"
      ]
     },
     "metadata": {},
     "output_type": "display_data"
    }
   ],
   "source": [
    "length(colnames(group_df_1))"
   ]
  },
  {
   "cell_type": "markdown",
   "metadata": {},
   "source": [
    "The above chunk of code defines the group index for predicting variables. Before that, we assign grouping numbers based on state and urbanicity."
   ]
  },
  {
   "cell_type": "code",
   "execution_count": 55,
   "metadata": {
    "vscode": {
     "languageId": "r"
    }
   },
   "outputs": [],
   "source": [
    "set.seed(100)\n",
    "# vector of outcome values\n",
    "Y = as.vector(log(group_df_1$EDCost.pmpm))\n",
    "\n",
    "# matrix of predictor values removing categorical variables and the outcome column\n",
    "X = as.matrix(group_df_1[,-c(1,14,23)])\n",
    "\n",
    "# set the test data to be 20% of the overall data\n",
    "test_size = 0.2\n",
    "\n",
    "# create the train and test indices\n",
    "group_train_ind = createDataPartition(Y, p = 1 - test_size, list = FALSE)\n",
    "\n",
    "# Split the data into train and test sets\n",
    "group_train_data = X[group_train_ind, ]\n",
    "group_test_data = X[-group_train_ind, ]\n",
    "\n",
    "# Split the response variable accordingly\n",
    "group_train_response = Y[group_train_ind]\n",
    "group_test_response = Y[-group_train_ind]\n",
    "\n",
    "# perform group lasso regression using the state groupings\n",
    "model_group_11 = glmnet(X, Y, alpha = 1, group = group_DA, nlambda=100)\n",
    "\n",
    "# Calculate the optimal lambda using cross-validation\n",
    "group_lasso.cv <- cv.grpreg(X, Y, group = group_DA, family = \"poisson\", nfolds = 10)\n",
    "opt_lambda <- group_lasso.cv$lambda.min"
   ]
  },
  {
   "cell_type": "code",
   "execution_count": 56,
   "metadata": {
    "vscode": {
     "languageId": "r"
    }
   },
   "outputs": [],
   "source": [
    "# Perform group lasso using grpreg\n",
    "group_lasso = grpreg(X, Y, group = group_DA, penalty = \"grLasso\", \n",
    "                     family = \"poisson\", nlambda = 100)\n",
    "\n",
    "# group_lasso_coefficients <- coef(group_lasso)\n",
    "# group_lasso_coefficients"
   ]
  },
  {
   "cell_type": "code",
   "execution_count": 57,
   "metadata": {
    "vscode": {
     "languageId": "r"
    }
   },
   "outputs": [
    {
     "data": {
      "text/html": [
       "<style>\n",
       ".dl-inline {width: auto; margin:0; padding: 0}\n",
       ".dl-inline>dt, .dl-inline>dd {float: none; width: auto; display: inline-block}\n",
       ".dl-inline>dt::after {content: \":\\0020\"; padding-right: .5ex}\n",
       ".dl-inline>dt:not(:first-of-type) {padding-left: .5ex}\n",
       "</style><dl class=dl-inline><dt>(Intercept)</dt><dd>-88393800.0419</dd><dt>HO</dt><dd>3.1426</dd><dt>PO</dt><dd>0.4762</dd><dt>WhitePop</dt><dd>195908.0606</dd><dt>BlackPop</dt><dd>195908.0608</dd><dt>OtherPop</dt><dd>195908.0616</dd><dt>HealthyPop</dt><dd>688029.9479</dd><dt>ChronicPop</dt><dd>688029.9503</dd><dt>ComplexPop</dt><dd>688029.9525</dd><dt>Unemployment</dt><dd>0</dd><dt>Income</dt><dd>0</dd><dt>Poverty</dt><dd>0</dd><dt>Education</dt><dd>0</dd><dt>Accessibility</dt><dd>0</dd><dt>Availability</dt><dd>0</dd><dt>RankingsPCP</dt><dd>0</dd><dt>RankingsFood</dt><dd>0</dd><dt>RankingsHousing</dt><dd>0</dd><dt>RankingsExercise</dt><dd>0.0015</dd><dt>RankingsSocial</dt><dd>-0.0022</dd><dt>ProvDensity</dt><dd>0</dd><dt>State_s</dt><dd>0</dd><dt>Urbanicity_grp</dt><dd>0</dd></dl>\n"
      ],
      "text/latex": [
       "\\begin{description*}\n",
       "\\item[(Intercept)] -88393800.0419\n",
       "\\item[HO] 3.1426\n",
       "\\item[PO] 0.4762\n",
       "\\item[WhitePop] 195908.0606\n",
       "\\item[BlackPop] 195908.0608\n",
       "\\item[OtherPop] 195908.0616\n",
       "\\item[HealthyPop] 688029.9479\n",
       "\\item[ChronicPop] 688029.9503\n",
       "\\item[ComplexPop] 688029.9525\n",
       "\\item[Unemployment] 0\n",
       "\\item[Income] 0\n",
       "\\item[Poverty] 0\n",
       "\\item[Education] 0\n",
       "\\item[Accessibility] 0\n",
       "\\item[Availability] 0\n",
       "\\item[RankingsPCP] 0\n",
       "\\item[RankingsFood] 0\n",
       "\\item[RankingsHousing] 0\n",
       "\\item[RankingsExercise] 0.0015\n",
       "\\item[RankingsSocial] -0.0022\n",
       "\\item[ProvDensity] 0\n",
       "\\item[State\\textbackslash{}\\_s] 0\n",
       "\\item[Urbanicity\\textbackslash{}\\_grp] 0\n",
       "\\end{description*}\n"
      ],
      "text/markdown": [
       "(Intercept)\n",
       ":   -88393800.0419HO\n",
       ":   3.1426PO\n",
       ":   0.4762WhitePop\n",
       ":   195908.0606BlackPop\n",
       ":   195908.0608OtherPop\n",
       ":   195908.0616HealthyPop\n",
       ":   688029.9479ChronicPop\n",
       ":   688029.9503ComplexPop\n",
       ":   688029.9525Unemployment\n",
       ":   0Income\n",
       ":   0Poverty\n",
       ":   0Education\n",
       ":   0Accessibility\n",
       ":   0Availability\n",
       ":   0RankingsPCP\n",
       ":   0RankingsFood\n",
       ":   0RankingsHousing\n",
       ":   0RankingsExercise\n",
       ":   0.0015RankingsSocial\n",
       ":   -0.0022ProvDensity\n",
       ":   0State_s\n",
       ":   0Urbanicity_grp\n",
       ":   0\n",
       "\n"
      ],
      "text/plain": [
       "     (Intercept)               HO               PO         WhitePop \n",
       "   -8.839380e+07     3.142600e+00     4.762000e-01     1.959081e+05 \n",
       "        BlackPop         OtherPop       HealthyPop       ChronicPop \n",
       "    1.959081e+05     1.959081e+05     6.880299e+05     6.880300e+05 \n",
       "      ComplexPop     Unemployment           Income          Poverty \n",
       "    6.880300e+05     0.000000e+00     0.000000e+00     0.000000e+00 \n",
       "       Education    Accessibility     Availability      RankingsPCP \n",
       "    0.000000e+00     0.000000e+00     0.000000e+00     0.000000e+00 \n",
       "    RankingsFood  RankingsHousing RankingsExercise   RankingsSocial \n",
       "    0.000000e+00     0.000000e+00     1.500000e-03    -2.200000e-03 \n",
       "     ProvDensity          State_s   Urbanicity_grp \n",
       "    0.000000e+00     0.000000e+00     0.000000e+00 "
      ]
     },
     "metadata": {},
     "output_type": "display_data"
    }
   ],
   "source": [
    "round(select(group_lasso)$beta,4)"
   ]
  },
  {
   "cell_type": "markdown",
   "metadata": {},
   "source": [
    "We’re implementing Group LASSO with the group previously defined. Then we apply the cv.grpreg() in order to identify the optimal lambda using 10-fold cross validation and fit the Group LASSO using the grpreg() command. The estimated coefficients are shown above. Coefficients equal to zero indicating that this variable is not selected such as RankingsSocial."
   ]
  },
  {
   "cell_type": "code",
   "execution_count": 58,
   "metadata": {
    "vscode": {
     "languageId": "r"
    }
   },
   "outputs": [
    {
     "data": {
      "text/plain": [
       "23 x 1 sparse Matrix of class \"dgCMatrix\"\n",
       "                            s1\n",
       "(Intercept)       3.651369e+00\n",
       "HO                1.884278e+01\n",
       "PO                2.077976e+00\n",
       "WhitePop         -4.354805e-03\n",
       "BlackPop          .           \n",
       "OtherPop          6.556571e-03\n",
       "HealthyPop       -2.659867e-02\n",
       "ChronicPop        .           \n",
       "ComplexPop        2.804813e-03\n",
       "Unemployment      .           \n",
       "Income            2.753702e-07\n",
       "Poverty          -2.681596e-03\n",
       "Education        -1.614158e-03\n",
       "Accessibility    -4.511172e-03\n",
       "Availability      6.924052e-02\n",
       "RankingsPCP      -1.695255e-04\n",
       "RankingsFood      2.047757e-02\n",
       "RankingsHousing   .           \n",
       "RankingsExercise  7.112714e-03\n",
       "RankingsSocial   -1.359402e-02\n",
       "ProvDensity       9.333652e-02\n",
       "State_s          -1.343332e-02\n",
       "Urbanicity_grp   -2.327813e-02"
      ]
     },
     "metadata": {},
     "output_type": "display_data"
    }
   ],
   "source": [
    "# perform k-fold cross validation to find the optimal lambda value\n",
    "set.seed(100)\n",
    "\n",
    "# perform group lasso regression using the state groupings\n",
    "model_group_11 = glmnet(X, Y, alpha = 1, group = group_DA, nlambda=100)\n",
    "\n",
    "model_group_11_fit = cv.glmnet(X, Y, alpha = 1, lambda=NULL, grouped = TRUE, nfolds=10)\n",
    "\n",
    "# find the optimal lambda value\n",
    "optml_lambda = model_group_11_fit$lambda.min\n",
    "\n",
    "# view the coefficients of the model at the optimal lambda\n",
    "coef(model_group_11,optml_lambda)"
   ]
  },
  {
   "cell_type": "markdown",
   "metadata": {},
   "source": [
    "Here, we use glmnet to perform Group LASSO and corresponding coefficient estimates are shown above."
   ]
  },
  {
   "cell_type": "code",
   "execution_count": 59,
   "metadata": {
    "vscode": {
     "languageId": "r"
    }
   },
   "outputs": [
    {
     "data": {
      "image/png": "[encoded data removed]",
      "text/plain": [
       "plot without title"
      ]
     },
     "metadata": {
      "image/png": {
       "height": 420,
       "width": 420
      }
     },
     "output_type": "display_data"
    }
   ],
   "source": [
    "# plot the coefficient paths\n",
    "plot(model_group_11, xvar='lambda', label=TRUE, lwd=2) \n",
    "abline(v=log(optml_lambda), col='black', lty=2, lwd=2)"
   ]
  },
  {
   "cell_type": "code",
   "execution_count": 60,
   "metadata": {
    "vscode": {
     "languageId": "r"
    }
   },
   "outputs": [],
   "source": [
    "# Perform group lasso regression on the training data\n",
    "model_group_2 = glmnet(x = group_train_data, y = group_train_response, alpha = 1, \n",
    "                       group = group_DA, lambda = opt_lambda)"
   ]
  },
  {
   "cell_type": "markdown",
   "metadata": {},
   "source": [
    "We perform Group LASSO regression on the training data to fit the model, which is then used for testing on the test dataset."
   ]
  },
  {
   "cell_type": "code",
   "execution_count": 61,
   "metadata": {
    "vscode": {
     "languageId": "r"
    }
   },
   "outputs": [],
   "source": [
    "# Make predictions on the group lasso model\n",
    "group.pred = predict(model_group_2, newx = group_test_data, type = \"response\")\n",
    "\n",
    "# compare predicted values to true values\n",
    "group_compare = data.frame(group_test_response, group.pred)\n",
    "group_compare$diff = group_compare$group_test_response - group_compare$s0\n",
    "colnames(group_compare) = c('Actual', 'Predicted', 'Difference')"
   ]
  },
  {
   "cell_type": "code",
   "execution_count": 62,
   "metadata": {
    "vscode": {
     "languageId": "r"
    }
   },
   "outputs": [],
   "source": [
    "# calculate MAE of group lasso model\n",
    "group_mae = mean(abs(group_compare$Actual - group_compare$Predicted))"
   ]
  },
  {
   "cell_type": "code",
   "execution_count": 63,
   "metadata": {
    "vscode": {
     "languageId": "r"
    }
   },
   "outputs": [],
   "source": [
    "# calculate RMSE of group lasso model\n",
    "group_rmse = sqrt(mean((group_compare$Actual - group_compare$Predicted)^2))"
   ]
  },
  {
   "cell_type": "code",
   "execution_count": 64,
   "metadata": {
    "vscode": {
     "languageId": "r"
    }
   },
   "outputs": [],
   "source": [
    "# calculate R2 of the group lasso model\n",
    "group_ss_residual = sum((group_compare$Actual - group_compare$Predicted)^2)\n",
    "group_ss_total = sum((group_compare$Actual - mean(group_compare$Actual))^2)\n",
    "group_r_squared = 1 - (group_ss_residual / group_ss_total)"
   ]
  },
  {
   "cell_type": "code",
   "execution_count": 65,
   "metadata": {
    "vscode": {
     "languageId": "r"
    }
   },
   "outputs": [],
   "source": [
    "# calculate adjusted R2 of the group lasso model\n",
    "adjusted_r_squared = 1 - ((1 - group_r_squared) * (nrow(group_compare) - 1)) / (nrow(group_compare) - ncol(group_test_data) - 1)"
   ]
  },
  {
   "cell_type": "code",
   "execution_count": 66,
   "metadata": {
    "vscode": {
     "languageId": "r"
    }
   },
   "outputs": [
    {
     "data": {
      "text/html": [
       "<table class=\"dataframe\">\n",
       "<caption>A data.frame: 1 × 4</caption>\n",
       "<thead>\n",
       "\t<tr><th scope=col>MAE</th><th scope=col>RMSE</th><th scope=col>R2</th><th scope=col>Adj_R2</th></tr>\n",
       "\t<tr><th scope=col>&lt;dbl&gt;</th><th scope=col>&lt;dbl&gt;</th><th scope=col>&lt;dbl&gt;</th><th scope=col>&lt;dbl&gt;</th></tr>\n",
       "</thead>\n",
       "<tbody>\n",
       "\t<tr><td>0.2882</td><td>0.372</td><td>0.6002</td><td>0.5912</td></tr>\n",
       "</tbody>\n",
       "</table>\n"
      ],
      "text/latex": [
       "A data.frame: 1 × 4\n",
       "\\begin{tabular}{llll}\n",
       " MAE & RMSE & R2 & Adj\\_R2\\\\\n",
       " <dbl> & <dbl> & <dbl> & <dbl>\\\\\n",
       "\\hline\n",
       "\t 0.2882 & 0.372 & 0.6002 & 0.5912\\\\\n",
       "\\end{tabular}\n"
      ],
      "text/markdown": [
       "\n",
       "A data.frame: 1 × 4\n",
       "\n",
       "| MAE &lt;dbl&gt; | RMSE &lt;dbl&gt; | R2 &lt;dbl&gt; | Adj_R2 &lt;dbl&gt; |\n",
       "|---|---|---|---|\n",
       "| 0.2882 | 0.372 | 0.6002 | 0.5912 |\n",
       "\n"
      ],
      "text/plain": [
       "  MAE    RMSE  R2     Adj_R2\n",
       "1 0.2882 0.372 0.6002 0.5912"
      ]
     },
     "metadata": {},
     "output_type": "display_data"
    }
   ],
   "source": [
    "# make a dataframe of the different measures\n",
    "group_performance = data.frame(MAE = group_mae,\n",
    "                               RMSE =group_rmse,\n",
    "                               R2 = group_r_squared,\n",
    "                               Adj_R2 = adjusted_r_squared)\n",
    "round(group_performance,4)\n"
   ]
  },
  {
   "cell_type": "markdown",
   "metadata": {},
   "source": [
    "The above codes are calculating MAE, RMSE, R^2 and Adj_R^2. According to R^2, the Group LASSO model explains ~60% of the variance in the test data. MAE and RMSE are relatively low, suggesting good predictive performance. Meanwhile, the small difference between R^2 and Adj_R^2 indicates that most of the predictors contribute useful information."
   ]
  }
 ],
 "metadata": {
  "kernelspec": {
   "display_name": "R",
   "language": "R",
   "name": "ir"
  },
  "language_info": {
   "codemirror_mode": "r",
   "file_extension": ".r",
   "mimetype": "text/x-r-source",
   "name": "R",
   "pygments_lexer": "r",
   "version": "4.3.1"
  }
 },
 "nbformat": 4,
 "nbformat_minor": 2
}
